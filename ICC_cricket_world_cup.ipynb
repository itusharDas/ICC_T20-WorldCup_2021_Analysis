{
  "nbformat": 4,
  "nbformat_minor": 0,
  "metadata": {
    "colab": {
      "provenance": []
    },
    "kernelspec": {
      "name": "ir",
      "display_name": "R"
    },
    "language_info": {
      "name": "R"
    }
  },
  "cells": [
    {
      "cell_type": "code",
      "execution_count": 6,
      "metadata": {
        "id": "lC8Jsz4jtjvX"
      },
      "outputs": [],
      "source": [
        "library(dplyr)\n",
        "library(ggplot2)\n",
        "library(tidyr)"
      ]
    },
    {
      "cell_type": "code",
      "source": [
        "df<- read.csv(\"kaggle_data_ICC_T20_WorldCup.csv.xls\")\n",
        "head(df)"
      ],
      "metadata": {
        "colab": {
          "base_uri": "https://localhost:8080/",
          "height": 303
        },
        "id": "i17Lcb5QuieT",
        "outputId": "9317a626-6092-41b4-a491-cbc66af2ed38"
      },
      "execution_count": 7,
      "outputs": [
        {
          "output_type": "display_data",
          "data": {
            "text/html": [
              "<table class=\"dataframe\">\n",
              "<caption>A data.frame: 6 × 24</caption>\n",
              "<thead>\n",
              "\t<tr><th></th><th scope=col>X</th><th scope=col>team_1</th><th scope=col>team_2</th><th scope=col>stage</th><th scope=col>Winner_toss</th><th scope=col>Toss_descision</th><th scope=col>time</th><th scope=col>venue</th><th scope=col>avg_temperature</th><th scope=col>best_bowler</th><th scope=col>⋯</th><th scope=col>best_bowler_country</th><th scope=col>best_batter</th><th scope=col>batting_hand</th><th scope=col>high_indvidual_scores</th><th scope=col>strike_rate</th><th scope=col>best_batter_team</th><th scope=col>target</th><th scope=col>target_achieved</th><th scope=col>Player_of_the_match</th><th scope=col>Winner</th></tr>\n",
              "\t<tr><th></th><th scope=col>&lt;chr&gt;</th><th scope=col>&lt;chr&gt;</th><th scope=col>&lt;chr&gt;</th><th scope=col>&lt;chr&gt;</th><th scope=col>&lt;chr&gt;</th><th scope=col>&lt;chr&gt;</th><th scope=col>&lt;chr&gt;</th><th scope=col>&lt;chr&gt;</th><th scope=col>&lt;int&gt;</th><th scope=col>&lt;chr&gt;</th><th scope=col>⋯</th><th scope=col>&lt;chr&gt;</th><th scope=col>&lt;chr&gt;</th><th scope=col>&lt;chr&gt;</th><th scope=col>&lt;int&gt;</th><th scope=col>&lt;dbl&gt;</th><th scope=col>&lt;chr&gt;</th><th scope=col>&lt;int&gt;</th><th scope=col>&lt;int&gt;</th><th scope=col>&lt;chr&gt;</th><th scope=col>&lt;chr&gt;</th></tr>\n",
              "</thead>\n",
              "<tbody>\n",
              "\t<tr><th scope=row>1</th><td>Match_1</td><td>Australia  </td><td>SouthAfrica</td><td>Group_stage</td><td>Australia  </td><td>Fielding</td><td>afternoon</td><td>Abu_Dhabi</td><td>30</td><td>Josh_Hazlewood   </td><td>⋯</td><td>Australia  </td><td>Aiden_Markram    </td><td>Right</td><td>40</td><td>111.10</td><td>SouthAfrica</td><td>119</td><td>1</td><td>Josh_Hazlewood  </td><td>Australia  </td></tr>\n",
              "\t<tr><th scope=row>2</th><td>Match_2</td><td>England    </td><td>Windies    </td><td>Group_stage</td><td>England    </td><td>Fielding</td><td>evening  </td><td>Dubai    </td><td>33</td><td>Adil_Rashid      </td><td>⋯</td><td>England    </td><td>Jos_Buttler      </td><td>Right</td><td>24</td><td>109.10</td><td>England    </td><td> 56</td><td>1</td><td>Moeen_Ali       </td><td>England    </td></tr>\n",
              "\t<tr><th scope=row>3</th><td>Match_3</td><td>Srilanka   </td><td>Bangladesh </td><td>Group_stage</td><td>Srilanka   </td><td>Fielding</td><td>afternoon</td><td>Sharjah  </td><td>34</td><td>Shakib_al_Hassan </td><td>⋯</td><td>Bangladesh </td><td>Charith_Asalanka </td><td>Left </td><td>80</td><td>163.20</td><td>Srilanka   </td><td>172</td><td>1</td><td>Charith_Asalanka</td><td>Srilanka   </td></tr>\n",
              "\t<tr><th scope=row>4</th><td>Match_4</td><td>Pakistan   </td><td>India      </td><td>Group_stage</td><td>Pakistan   </td><td>Fielding</td><td>evening  </td><td>Dubai    </td><td>34</td><td>Shaheen_shah     </td><td>⋯</td><td>Pakistan   </td><td>Muhammad_Rizwan  </td><td>Right</td><td>79</td><td>143.60</td><td>Pakistan   </td><td>152</td><td>1</td><td>Shaheen_shah    </td><td>Pakistan   </td></tr>\n",
              "\t<tr><th scope=row>5</th><td>Match_5</td><td>Afghanistan</td><td>Scotland   </td><td>Group_stage</td><td>Afghanistan</td><td>Batting </td><td>evening  </td><td>Sharjah  </td><td>33</td><td>Mujeeb_ur_Rehman </td><td>⋯</td><td>Afghanistan</td><td>Najibullah_Zadran</td><td>Left </td><td>59</td><td>173.53</td><td>Afghanistan</td><td>191</td><td>0</td><td>Mujeeb_ur_Rehman</td><td>Afghanistan</td></tr>\n",
              "\t<tr><th scope=row>6</th><td>Match_6</td><td>SouthAfrica</td><td>Windies    </td><td>Group_stage</td><td>SouthAfrica</td><td>Fielding</td><td>afternoon</td><td>Dubai    </td><td>33</td><td>Dwaine_Pretorious</td><td>⋯</td><td>SouthAfrica</td><td>Evin_Lewis       </td><td>Left </td><td>56</td><td>160.00</td><td>Windies    </td><td>144</td><td>1</td><td>Anrich_Nortje   </td><td>SouthAfrica</td></tr>\n",
              "</tbody>\n",
              "</table>\n"
            ],
            "text/markdown": "\nA data.frame: 6 × 24\n\n| <!--/--> | X &lt;chr&gt; | team_1 &lt;chr&gt; | team_2 &lt;chr&gt; | stage &lt;chr&gt; | Winner_toss &lt;chr&gt; | Toss_descision &lt;chr&gt; | time &lt;chr&gt; | venue &lt;chr&gt; | avg_temperature &lt;int&gt; | best_bowler &lt;chr&gt; | ⋯ ⋯ | best_bowler_country &lt;chr&gt; | best_batter &lt;chr&gt; | batting_hand &lt;chr&gt; | high_indvidual_scores &lt;int&gt; | strike_rate &lt;dbl&gt; | best_batter_team &lt;chr&gt; | target &lt;int&gt; | target_achieved &lt;int&gt; | Player_of_the_match &lt;chr&gt; | Winner &lt;chr&gt; |\n|---|---|---|---|---|---|---|---|---|---|---|---|---|---|---|---|---|---|---|---|---|---|\n| 1 | Match_1 | Australia   | SouthAfrica | Group_stage | Australia   | Fielding | afternoon | Abu_Dhabi | 30 | Josh_Hazlewood    | ⋯ | Australia   | Aiden_Markram     | Right | 40 | 111.10 | SouthAfrica | 119 | 1 | Josh_Hazlewood   | Australia   |\n| 2 | Match_2 | England     | Windies     | Group_stage | England     | Fielding | evening   | Dubai     | 33 | Adil_Rashid       | ⋯ | England     | Jos_Buttler       | Right | 24 | 109.10 | England     |  56 | 1 | Moeen_Ali        | England     |\n| 3 | Match_3 | Srilanka    | Bangladesh  | Group_stage | Srilanka    | Fielding | afternoon | Sharjah   | 34 | Shakib_al_Hassan  | ⋯ | Bangladesh  | Charith_Asalanka  | Left  | 80 | 163.20 | Srilanka    | 172 | 1 | Charith_Asalanka | Srilanka    |\n| 4 | Match_4 | Pakistan    | India       | Group_stage | Pakistan    | Fielding | evening   | Dubai     | 34 | Shaheen_shah      | ⋯ | Pakistan    | Muhammad_Rizwan   | Right | 79 | 143.60 | Pakistan    | 152 | 1 | Shaheen_shah     | Pakistan    |\n| 5 | Match_5 | Afghanistan | Scotland    | Group_stage | Afghanistan | Batting  | evening   | Sharjah   | 33 | Mujeeb_ur_Rehman  | ⋯ | Afghanistan | Najibullah_Zadran | Left  | 59 | 173.53 | Afghanistan | 191 | 0 | Mujeeb_ur_Rehman | Afghanistan |\n| 6 | Match_6 | SouthAfrica | Windies     | Group_stage | SouthAfrica | Fielding | afternoon | Dubai     | 33 | Dwaine_Pretorious | ⋯ | SouthAfrica | Evin_Lewis        | Left  | 56 | 160.00 | Windies     | 144 | 1 | Anrich_Nortje    | SouthAfrica |\n\n",
            "text/latex": "A data.frame: 6 × 24\n\\begin{tabular}{r|lllllllllllllllllllll}\n  & X & team\\_1 & team\\_2 & stage & Winner\\_toss & Toss\\_descision & time & venue & avg\\_temperature & best\\_bowler & ⋯ & best\\_bowler\\_country & best\\_batter & batting\\_hand & high\\_indvidual\\_scores & strike\\_rate & best\\_batter\\_team & target & target\\_achieved & Player\\_of\\_the\\_match & Winner\\\\\n  & <chr> & <chr> & <chr> & <chr> & <chr> & <chr> & <chr> & <chr> & <int> & <chr> & ⋯ & <chr> & <chr> & <chr> & <int> & <dbl> & <chr> & <int> & <int> & <chr> & <chr>\\\\\n\\hline\n\t1 & Match\\_1 & Australia   & SouthAfrica & Group\\_stage & Australia   & Fielding & afternoon & Abu\\_Dhabi & 30 & Josh\\_Hazlewood    & ⋯ & Australia   & Aiden\\_Markram     & Right & 40 & 111.10 & SouthAfrica & 119 & 1 & Josh\\_Hazlewood   & Australia  \\\\\n\t2 & Match\\_2 & England     & Windies     & Group\\_stage & England     & Fielding & evening   & Dubai     & 33 & Adil\\_Rashid       & ⋯ & England     & Jos\\_Buttler       & Right & 24 & 109.10 & England     &  56 & 1 & Moeen\\_Ali        & England    \\\\\n\t3 & Match\\_3 & Srilanka    & Bangladesh  & Group\\_stage & Srilanka    & Fielding & afternoon & Sharjah   & 34 & Shakib\\_al\\_Hassan  & ⋯ & Bangladesh  & Charith\\_Asalanka  & Left  & 80 & 163.20 & Srilanka    & 172 & 1 & Charith\\_Asalanka & Srilanka   \\\\\n\t4 & Match\\_4 & Pakistan    & India       & Group\\_stage & Pakistan    & Fielding & evening   & Dubai     & 34 & Shaheen\\_shah      & ⋯ & Pakistan    & Muhammad\\_Rizwan   & Right & 79 & 143.60 & Pakistan    & 152 & 1 & Shaheen\\_shah     & Pakistan   \\\\\n\t5 & Match\\_5 & Afghanistan & Scotland    & Group\\_stage & Afghanistan & Batting  & evening   & Sharjah   & 33 & Mujeeb\\_ur\\_Rehman  & ⋯ & Afghanistan & Najibullah\\_Zadran & Left  & 59 & 173.53 & Afghanistan & 191 & 0 & Mujeeb\\_ur\\_Rehman & Afghanistan\\\\\n\t6 & Match\\_6 & SouthAfrica & Windies     & Group\\_stage & SouthAfrica & Fielding & afternoon & Dubai     & 33 & Dwaine\\_Pretorious & ⋯ & SouthAfrica & Evin\\_Lewis        & Left  & 56 & 160.00 & Windies     & 144 & 1 & Anrich\\_Nortje    & SouthAfrica\\\\\n\\end{tabular}\n",
            "text/plain": [
              "  X       team_1      team_2      stage       Winner_toss Toss_descision\n",
              "1 Match_1 Australia   SouthAfrica Group_stage Australia   Fielding      \n",
              "2 Match_2 England     Windies     Group_stage England     Fielding      \n",
              "3 Match_3 Srilanka    Bangladesh  Group_stage Srilanka    Fielding      \n",
              "4 Match_4 Pakistan    India       Group_stage Pakistan    Fielding      \n",
              "5 Match_5 Afghanistan Scotland    Group_stage Afghanistan Batting       \n",
              "6 Match_6 SouthAfrica Windies     Group_stage SouthAfrica Fielding      \n",
              "  time      venue     avg_temperature best_bowler       ⋯ best_bowler_country\n",
              "1 afternoon Abu_Dhabi 30              Josh_Hazlewood    ⋯ Australia          \n",
              "2 evening   Dubai     33              Adil_Rashid       ⋯ England            \n",
              "3 afternoon Sharjah   34              Shakib_al_Hassan  ⋯ Bangladesh         \n",
              "4 evening   Dubai     34              Shaheen_shah      ⋯ Pakistan           \n",
              "5 evening   Sharjah   33              Mujeeb_ur_Rehman  ⋯ Afghanistan        \n",
              "6 afternoon Dubai     33              Dwaine_Pretorious ⋯ SouthAfrica        \n",
              "  best_batter       batting_hand high_indvidual_scores strike_rate\n",
              "1 Aiden_Markram     Right        40                    111.10     \n",
              "2 Jos_Buttler       Right        24                    109.10     \n",
              "3 Charith_Asalanka  Left         80                    163.20     \n",
              "4 Muhammad_Rizwan   Right        79                    143.60     \n",
              "5 Najibullah_Zadran Left         59                    173.53     \n",
              "6 Evin_Lewis        Left         56                    160.00     \n",
              "  best_batter_team target target_achieved Player_of_the_match Winner     \n",
              "1 SouthAfrica      119    1               Josh_Hazlewood      Australia  \n",
              "2 England           56    1               Moeen_Ali           England    \n",
              "3 Srilanka         172    1               Charith_Asalanka    Srilanka   \n",
              "4 Pakistan         152    1               Shaheen_shah        Pakistan   \n",
              "5 Afghanistan      191    0               Mujeeb_ur_Rehman    Afghanistan\n",
              "6 Windies          144    1               Anrich_Nortje       SouthAfrica"
            ]
          },
          "metadata": {}
        }
      ]
    },
    {
      "cell_type": "code",
      "source": [
        "tail(df)"
      ],
      "metadata": {
        "colab": {
          "base_uri": "https://localhost:8080/",
          "height": 303
        },
        "id": "LueFq2r9f0sb",
        "outputId": "23b4121e-1692-4f7d-d09e-a3cbbdd924c2"
      },
      "execution_count": 8,
      "outputs": [
        {
          "output_type": "display_data",
          "data": {
            "text/html": [
              "<table class=\"dataframe\">\n",
              "<caption>A data.frame: 6 × 24</caption>\n",
              "<thead>\n",
              "\t<tr><th></th><th scope=col>X</th><th scope=col>team_1</th><th scope=col>team_2</th><th scope=col>stage</th><th scope=col>Winner_toss</th><th scope=col>Toss_descision</th><th scope=col>time</th><th scope=col>venue</th><th scope=col>avg_temperature</th><th scope=col>best_bowler</th><th scope=col>⋯</th><th scope=col>best_bowler_country</th><th scope=col>best_batter</th><th scope=col>batting_hand</th><th scope=col>high_indvidual_scores</th><th scope=col>strike_rate</th><th scope=col>best_batter_team</th><th scope=col>target</th><th scope=col>target_achieved</th><th scope=col>Player_of_the_match</th><th scope=col>Winner</th></tr>\n",
              "\t<tr><th></th><th scope=col>&lt;chr&gt;</th><th scope=col>&lt;chr&gt;</th><th scope=col>&lt;chr&gt;</th><th scope=col>&lt;chr&gt;</th><th scope=col>&lt;chr&gt;</th><th scope=col>&lt;chr&gt;</th><th scope=col>&lt;chr&gt;</th><th scope=col>&lt;chr&gt;</th><th scope=col>&lt;int&gt;</th><th scope=col>&lt;chr&gt;</th><th scope=col>⋯</th><th scope=col>&lt;chr&gt;</th><th scope=col>&lt;chr&gt;</th><th scope=col>&lt;chr&gt;</th><th scope=col>&lt;int&gt;</th><th scope=col>&lt;dbl&gt;</th><th scope=col>&lt;chr&gt;</th><th scope=col>&lt;int&gt;</th><th scope=col>&lt;int&gt;</th><th scope=col>&lt;chr&gt;</th><th scope=col>&lt;chr&gt;</th></tr>\n",
              "</thead>\n",
              "<tbody>\n",
              "\t<tr><th scope=row>28</th><td>Match_28</td><td>New_Zealand</td><td>Afghanistan</td><td>Group_stage</td><td>Afghanistan</td><td>Batting </td><td>afternoon</td><td>Abu_Dhabi</td><td>29</td><td>Trent_Boult     </td><td>⋯</td><td>New_Zealand</td><td>Najibullah_Zadran</td><td>Left </td><td>73</td><td>152.08</td><td>Afghanistan</td><td>125</td><td>1</td><td>Trent_Boult    </td><td>New_Zealand</td></tr>\n",
              "\t<tr><th scope=row>29</th><td>Match_29</td><td>Pakistan   </td><td>ScotLand   </td><td>Group_stage</td><td>Pakistan   </td><td>Batting </td><td>evening  </td><td>Sharjah  </td><td>27</td><td>Shadab_Khan     </td><td>⋯</td><td>Pakistan   </td><td>Babar_Azam       </td><td>Right</td><td>66</td><td>140.43</td><td>Pakistan   </td><td>190</td><td>0</td><td>Shoaib_Malik   </td><td>Pakistan   </td></tr>\n",
              "\t<tr><th scope=row>30</th><td>Match_30</td><td>India      </td><td>Namibia    </td><td>Group_stage</td><td>India      </td><td>Fielding</td><td>evening  </td><td>Dubai    </td><td>28</td><td>Ravindra_Jadeja </td><td>⋯</td><td>India      </td><td>Rohit_Sharma     </td><td>Right</td><td>56</td><td>151.35</td><td>India      </td><td>133</td><td>1</td><td>Ravindra_Jadeja</td><td>India      </td></tr>\n",
              "\t<tr><th scope=row>31</th><td>Match_31</td><td>New_Zealand</td><td>England    </td><td>Semi_Final </td><td>New_Zealand</td><td>Fielding</td><td>evening  </td><td>Abu_Dhabi</td><td>28</td><td>Liam_Livingstone</td><td>⋯</td><td>England    </td><td>Daryl_Mitchell   </td><td>Right</td><td>72</td><td>153.19</td><td>New_Zealand</td><td>167</td><td>1</td><td>Daryl_Mitchell </td><td>New_Zealand</td></tr>\n",
              "\t<tr><th scope=row>32</th><td>Match_32</td><td>Australia  </td><td>Pakistan   </td><td>Semi_Final </td><td>Australia  </td><td>Fielding</td><td>evening  </td><td>Dubai    </td><td>29</td><td>Shadab_Khan     </td><td>⋯</td><td>Pakistan   </td><td>Muhammad_Rizwan  </td><td>Right</td><td>67</td><td>128.85</td><td>Pakistan   </td><td>177</td><td>1</td><td>Matthew_Wade   </td><td>Australia  </td></tr>\n",
              "\t<tr><th scope=row>33</th><td>Match_33</td><td>Australia  </td><td>New_Zealand</td><td>Final      </td><td>Australia  </td><td>Fielding</td><td>evening  </td><td>Dubai    </td><td>26</td><td>Josh_Hazlewood  </td><td>⋯</td><td>Australia  </td><td>Kane_Williamson  </td><td>Right</td><td>85</td><td>177.08</td><td>New_Zealand</td><td>173</td><td>1</td><td>Mitchell_Marsh </td><td>Australia  </td></tr>\n",
              "</tbody>\n",
              "</table>\n"
            ],
            "text/markdown": "\nA data.frame: 6 × 24\n\n| <!--/--> | X &lt;chr&gt; | team_1 &lt;chr&gt; | team_2 &lt;chr&gt; | stage &lt;chr&gt; | Winner_toss &lt;chr&gt; | Toss_descision &lt;chr&gt; | time &lt;chr&gt; | venue &lt;chr&gt; | avg_temperature &lt;int&gt; | best_bowler &lt;chr&gt; | ⋯ ⋯ | best_bowler_country &lt;chr&gt; | best_batter &lt;chr&gt; | batting_hand &lt;chr&gt; | high_indvidual_scores &lt;int&gt; | strike_rate &lt;dbl&gt; | best_batter_team &lt;chr&gt; | target &lt;int&gt; | target_achieved &lt;int&gt; | Player_of_the_match &lt;chr&gt; | Winner &lt;chr&gt; |\n|---|---|---|---|---|---|---|---|---|---|---|---|---|---|---|---|---|---|---|---|---|---|\n| 28 | Match_28 | New_Zealand | Afghanistan | Group_stage | Afghanistan | Batting  | afternoon | Abu_Dhabi | 29 | Trent_Boult      | ⋯ | New_Zealand | Najibullah_Zadran | Left  | 73 | 152.08 | Afghanistan | 125 | 1 | Trent_Boult     | New_Zealand |\n| 29 | Match_29 | Pakistan    | ScotLand    | Group_stage | Pakistan    | Batting  | evening   | Sharjah   | 27 | Shadab_Khan      | ⋯ | Pakistan    | Babar_Azam        | Right | 66 | 140.43 | Pakistan    | 190 | 0 | Shoaib_Malik    | Pakistan    |\n| 30 | Match_30 | India       | Namibia     | Group_stage | India       | Fielding | evening   | Dubai     | 28 | Ravindra_Jadeja  | ⋯ | India       | Rohit_Sharma      | Right | 56 | 151.35 | India       | 133 | 1 | Ravindra_Jadeja | India       |\n| 31 | Match_31 | New_Zealand | England     | Semi_Final  | New_Zealand | Fielding | evening   | Abu_Dhabi | 28 | Liam_Livingstone | ⋯ | England     | Daryl_Mitchell    | Right | 72 | 153.19 | New_Zealand | 167 | 1 | Daryl_Mitchell  | New_Zealand |\n| 32 | Match_32 | Australia   | Pakistan    | Semi_Final  | Australia   | Fielding | evening   | Dubai     | 29 | Shadab_Khan      | ⋯ | Pakistan    | Muhammad_Rizwan   | Right | 67 | 128.85 | Pakistan    | 177 | 1 | Matthew_Wade    | Australia   |\n| 33 | Match_33 | Australia   | New_Zealand | Final       | Australia   | Fielding | evening   | Dubai     | 26 | Josh_Hazlewood   | ⋯ | Australia   | Kane_Williamson   | Right | 85 | 177.08 | New_Zealand | 173 | 1 | Mitchell_Marsh  | Australia   |\n\n",
            "text/latex": "A data.frame: 6 × 24\n\\begin{tabular}{r|lllllllllllllllllllll}\n  & X & team\\_1 & team\\_2 & stage & Winner\\_toss & Toss\\_descision & time & venue & avg\\_temperature & best\\_bowler & ⋯ & best\\_bowler\\_country & best\\_batter & batting\\_hand & high\\_indvidual\\_scores & strike\\_rate & best\\_batter\\_team & target & target\\_achieved & Player\\_of\\_the\\_match & Winner\\\\\n  & <chr> & <chr> & <chr> & <chr> & <chr> & <chr> & <chr> & <chr> & <int> & <chr> & ⋯ & <chr> & <chr> & <chr> & <int> & <dbl> & <chr> & <int> & <int> & <chr> & <chr>\\\\\n\\hline\n\t28 & Match\\_28 & New\\_Zealand & Afghanistan & Group\\_stage & Afghanistan & Batting  & afternoon & Abu\\_Dhabi & 29 & Trent\\_Boult      & ⋯ & New\\_Zealand & Najibullah\\_Zadran & Left  & 73 & 152.08 & Afghanistan & 125 & 1 & Trent\\_Boult     & New\\_Zealand\\\\\n\t29 & Match\\_29 & Pakistan    & ScotLand    & Group\\_stage & Pakistan    & Batting  & evening   & Sharjah   & 27 & Shadab\\_Khan      & ⋯ & Pakistan    & Babar\\_Azam        & Right & 66 & 140.43 & Pakistan    & 190 & 0 & Shoaib\\_Malik    & Pakistan   \\\\\n\t30 & Match\\_30 & India       & Namibia     & Group\\_stage & India       & Fielding & evening   & Dubai     & 28 & Ravindra\\_Jadeja  & ⋯ & India       & Rohit\\_Sharma      & Right & 56 & 151.35 & India       & 133 & 1 & Ravindra\\_Jadeja & India      \\\\\n\t31 & Match\\_31 & New\\_Zealand & England     & Semi\\_Final  & New\\_Zealand & Fielding & evening   & Abu\\_Dhabi & 28 & Liam\\_Livingstone & ⋯ & England     & Daryl\\_Mitchell    & Right & 72 & 153.19 & New\\_Zealand & 167 & 1 & Daryl\\_Mitchell  & New\\_Zealand\\\\\n\t32 & Match\\_32 & Australia   & Pakistan    & Semi\\_Final  & Australia   & Fielding & evening   & Dubai     & 29 & Shadab\\_Khan      & ⋯ & Pakistan    & Muhammad\\_Rizwan   & Right & 67 & 128.85 & Pakistan    & 177 & 1 & Matthew\\_Wade    & Australia  \\\\\n\t33 & Match\\_33 & Australia   & New\\_Zealand & Final       & Australia   & Fielding & evening   & Dubai     & 26 & Josh\\_Hazlewood   & ⋯ & Australia   & Kane\\_Williamson   & Right & 85 & 177.08 & New\\_Zealand & 173 & 1 & Mitchell\\_Marsh  & Australia  \\\\\n\\end{tabular}\n",
            "text/plain": [
              "   X        team_1      team_2      stage       Winner_toss Toss_descision\n",
              "28 Match_28 New_Zealand Afghanistan Group_stage Afghanistan Batting       \n",
              "29 Match_29 Pakistan    ScotLand    Group_stage Pakistan    Batting       \n",
              "30 Match_30 India       Namibia     Group_stage India       Fielding      \n",
              "31 Match_31 New_Zealand England     Semi_Final  New_Zealand Fielding      \n",
              "32 Match_32 Australia   Pakistan    Semi_Final  Australia   Fielding      \n",
              "33 Match_33 Australia   New_Zealand Final       Australia   Fielding      \n",
              "   time      venue     avg_temperature best_bowler      ⋯ best_bowler_country\n",
              "28 afternoon Abu_Dhabi 29              Trent_Boult      ⋯ New_Zealand        \n",
              "29 evening   Sharjah   27              Shadab_Khan      ⋯ Pakistan           \n",
              "30 evening   Dubai     28              Ravindra_Jadeja  ⋯ India              \n",
              "31 evening   Abu_Dhabi 28              Liam_Livingstone ⋯ England            \n",
              "32 evening   Dubai     29              Shadab_Khan      ⋯ Pakistan           \n",
              "33 evening   Dubai     26              Josh_Hazlewood   ⋯ Australia          \n",
              "   best_batter       batting_hand high_indvidual_scores strike_rate\n",
              "28 Najibullah_Zadran Left         73                    152.08     \n",
              "29 Babar_Azam        Right        66                    140.43     \n",
              "30 Rohit_Sharma      Right        56                    151.35     \n",
              "31 Daryl_Mitchell    Right        72                    153.19     \n",
              "32 Muhammad_Rizwan   Right        67                    128.85     \n",
              "33 Kane_Williamson   Right        85                    177.08     \n",
              "   best_batter_team target target_achieved Player_of_the_match Winner     \n",
              "28 Afghanistan      125    1               Trent_Boult         New_Zealand\n",
              "29 Pakistan         190    0               Shoaib_Malik        Pakistan   \n",
              "30 India            133    1               Ravindra_Jadeja     India      \n",
              "31 New_Zealand      167    1               Daryl_Mitchell      New_Zealand\n",
              "32 Pakistan         177    1               Matthew_Wade        Australia  \n",
              "33 New_Zealand      173    1               Mitchell_Marsh      Australia  "
            ]
          },
          "metadata": {}
        }
      ]
    },
    {
      "cell_type": "code",
      "source": [
        "str(df)"
      ],
      "metadata": {
        "colab": {
          "base_uri": "https://localhost:8080/"
        },
        "id": "5xk6Zh24vUdW",
        "outputId": "85330380-6f35-4a9a-fbf5-09c51e722bf0"
      },
      "execution_count": 9,
      "outputs": [
        {
          "output_type": "stream",
          "name": "stdout",
          "text": [
            "'data.frame':\t33 obs. of  24 variables:\n",
            " $ X                      : chr  \"Match_1\" \"Match_2\" \"Match_3\" \"Match_4\" ...\n",
            " $ team_1                 : chr  \"Australia\" \"England\" \"Srilanka\" \"Pakistan\" ...\n",
            " $ team_2                 : chr  \"SouthAfrica\" \"Windies\" \"Bangladesh\" \"India\" ...\n",
            " $ stage                  : chr  \"Group_stage\" \"Group_stage\" \"Group_stage\" \"Group_stage\" ...\n",
            " $ Winner_toss            : chr  \"Australia\" \"England\" \"Srilanka\" \"Pakistan\" ...\n",
            " $ Toss_descision         : chr  \"Fielding\" \"Fielding\" \"Fielding\" \"Fielding\" ...\n",
            " $ time                   : chr  \"afternoon\" \"evening\" \"afternoon\" \"evening\" ...\n",
            " $ venue                  : chr  \"Abu_Dhabi\" \"Dubai\" \"Sharjah\" \"Dubai\" ...\n",
            " $ avg_temperature        : int  30 33 34 34 33 33 29 30 29 28 ...\n",
            " $ best_bowler            : chr  \"Josh_Hazlewood\" \"Adil_Rashid\" \"Shakib_al_Hassan\" \"Shaheen_shah\" ...\n",
            " $ bowling_arm            : chr  \"Right\" \"Right\" \"Left\" \"Left\" ...\n",
            " $ bowling_style          : chr  \"Pacer\" \"Leg_spin\" \"Off_spin\" \"Pacer\" ...\n",
            " $ most_individual_wickets: int  2 4 2 3 5 3 4 3 3 2 ...\n",
            " $ economy                : num  4.8 0.9 5.67 7.75 5 8.05 5.5 6.75 4.25 3 ...\n",
            " $ best_bowler_country    : chr  \"Australia\" \"England\" \"Bangladesh\" \"Pakistan\" ...\n",
            " $ best_batter            : chr  \"Aiden_Markram\" \"Jos_Buttler\" \"Charith_Asalanka\" \"Muhammad_Rizwan\" ...\n",
            " $ batting_hand           : chr  \"Right\" \"Right\" \"Left\" \"Right\" ...\n",
            " $ high_indvidual_scores  : int  40 24 80 79 59 56 33 61 44 65 ...\n",
            " $ strike_rate            : num  111 109 163 144 174 ...\n",
            " $ best_batter_team       : chr  \"SouthAfrica\" \"England\" \"Srilanka\" \"Pakistan\" ...\n",
            " $ target                 : int  119 56 172 152 191 144 135 125 110 155 ...\n",
            " $ target_achieved        : int  1 1 1 1 0 1 1 1 1 1 ...\n",
            " $ Player_of_the_match    : chr  \"Josh_Hazlewood\" \"Moeen_Ali\" \"Charith_Asalanka\" \"Shaheen_shah\" ...\n",
            " $ Winner                 : chr  \"Australia\" \"England\" \"Srilanka\" \"Pakistan\" ...\n"
          ]
        }
      ]
    },
    {
      "cell_type": "code",
      "source": [
        "summary(df)"
      ],
      "metadata": {
        "id": "0o5ZiXidOhAA",
        "outputId": "53bee6be-b24b-478d-ed21-fcb19bd6493b",
        "colab": {
          "base_uri": "https://localhost:8080/",
          "height": 850
        }
      },
      "execution_count": 10,
      "outputs": [
        {
          "output_type": "display_data",
          "data": {
            "text/plain": [
              "      X                team_1             team_2             stage          \n",
              " Length:33          Length:33          Length:33          Length:33         \n",
              " Class :character   Class :character   Class :character   Class :character  \n",
              " Mode  :character   Mode  :character   Mode  :character   Mode  :character  \n",
              "                                                                            \n",
              "                                                                            \n",
              "                                                                            \n",
              " Winner_toss        Toss_descision         time              venue          \n",
              " Length:33          Length:33          Length:33          Length:33         \n",
              " Class :character   Class :character   Class :character   Class :character  \n",
              " Mode  :character   Mode  :character   Mode  :character   Mode  :character  \n",
              "                                                                            \n",
              "                                                                            \n",
              "                                                                            \n",
              " avg_temperature best_bowler        bowling_arm        bowling_style     \n",
              " Min.   :20.00   Length:33          Length:33          Length:33         \n",
              " 1st Qu.:28.00   Class :character   Class :character   Class :character  \n",
              " Median :29.00   Mode  :character   Mode  :character   Mode  :character  \n",
              " Mean   :29.27                                                           \n",
              " 3rd Qu.:30.00                                                           \n",
              " Max.   :34.00                                                           \n",
              " most_individual_wickets    economy       best_bowler_country\n",
              " Min.   :1.000           Min.   : 0.900   Length:33          \n",
              " 1st Qu.:2.000           1st Qu.: 4.000   Class :character   \n",
              " Median :3.000           Median : 4.800   Mode  :character   \n",
              " Mean   :2.879           Mean   : 5.216                      \n",
              " 3rd Qu.:3.000           3rd Qu.: 6.250                      \n",
              " Max.   :5.000           Max.   :12.000                      \n",
              " best_batter        batting_hand       high_indvidual_scores  strike_rate    \n",
              " Length:33          Length:33          Min.   : 24.00        Min.   : 97.06  \n",
              " Class :character   Class :character   1st Qu.: 45.00        1st Qu.:136.36  \n",
              " Mode  :character   Mode  :character   Median : 65.00        Median :153.19  \n",
              "                                       Mean   : 62.39        Mean   :152.40  \n",
              "                                       3rd Qu.: 79.00        3rd Qu.:162.90  \n",
              "                                       Max.   :101.00        Max.   :263.16  \n",
              " best_batter_team       target      target_achieved Player_of_the_match\n",
              " Length:33          Min.   : 56.0   Min.   :0.000   Length:33          \n",
              " Class :character   1st Qu.:125.0   1st Qu.:0.000   Class :character   \n",
              " Mode  :character   Median :152.0   Median :1.000   Mode  :character   \n",
              "                    Mean   :146.6   Mean   :0.697                      \n",
              "                    3rd Qu.:173.0   3rd Qu.:1.000                      \n",
              "                    Max.   :211.0   Max.   :1.000                      \n",
              "    Winner         \n",
              " Length:33         \n",
              " Class :character  \n",
              " Mode  :character  \n",
              "                   \n",
              "                   \n",
              "                   "
            ]
          },
          "metadata": {}
        }
      ]
    },
    {
      "cell_type": "code",
      "source": [
        "dim(df)"
      ],
      "metadata": {
        "colab": {
          "base_uri": "https://localhost:8080/",
          "height": 34
        },
        "id": "l4Em2G-lO2sB",
        "outputId": "8aadf642-528e-4d6d-965d-13d764c515ce"
      },
      "execution_count": 11,
      "outputs": [
        {
          "output_type": "display_data",
          "data": {
            "text/html": [
              "<style>\n",
              ".list-inline {list-style: none; margin:0; padding: 0}\n",
              ".list-inline>li {display: inline-block}\n",
              ".list-inline>li:not(:last-child)::after {content: \"\\00b7\"; padding: 0 .5ex}\n",
              "</style>\n",
              "<ol class=list-inline><li>33</li><li>24</li></ol>\n"
            ],
            "text/markdown": "1. 33\n2. 24\n\n\n",
            "text/latex": "\\begin{enumerate*}\n\\item 33\n\\item 24\n\\end{enumerate*}\n",
            "text/plain": [
              "[1] 33 24"
            ]
          },
          "metadata": {}
        }
      ]
    },
    {
      "cell_type": "code",
      "source": [
        "unique(df$best_batter)"
      ],
      "metadata": {
        "colab": {
          "base_uri": "https://localhost:8080/",
          "height": 68
        },
        "id": "7cWBFPWTxLIF",
        "outputId": "360ee1e9-047e-48cb-c68b-500146f65788"
      },
      "execution_count": 12,
      "outputs": [
        {
          "output_type": "display_data",
          "data": {
            "text/html": [
              "<style>\n",
              ".list-inline {list-style: none; margin:0; padding: 0}\n",
              ".list-inline>li {display: inline-block}\n",
              ".list-inline>li:not(:last-child)::after {content: \"\\00b7\"; padding: 0 .5ex}\n",
              "</style>\n",
              "<ol class=list-inline><li>'Aiden_Markram'</li><li>'Jos_Buttler'</li><li>'Charith_Asalanka'</li><li>'Muhammad_Rizwan'</li><li>'Najibullah_Zadran'</li><li>'Evin_Lewis'</li><li>'Jason_Roy'</li><li>'Michael_Leask'</li><li>'David_Warner'</li><li>'Liton_Das'</li><li>'Babar_Azam'</li><li>'Pathum_Nissanka'</li><li>'Mohammad_Shahzad'</li><li>'Daryl_Mitchell'</li><li>'Temaba_Bavuma'</li><li>'Martin_Guptill'</li><li>'Rohit_Sharma'</li><li>'Aaron_Finch'</li><li>'Shimron_Hetmyer'</li><li>'Glenn_Phillips'</li><li>'KL_Rahul'</li><li>'Rassie van der Dussen'</li><li>'Kane_Williamson'</li></ol>\n"
            ],
            "text/markdown": "1. 'Aiden_Markram'\n2. 'Jos_Buttler'\n3. 'Charith_Asalanka'\n4. 'Muhammad_Rizwan'\n5. 'Najibullah_Zadran'\n6. 'Evin_Lewis'\n7. 'Jason_Roy'\n8. 'Michael_Leask'\n9. 'David_Warner'\n10. 'Liton_Das'\n11. 'Babar_Azam'\n12. 'Pathum_Nissanka'\n13. 'Mohammad_Shahzad'\n14. 'Daryl_Mitchell'\n15. 'Temaba_Bavuma'\n16. 'Martin_Guptill'\n17. 'Rohit_Sharma'\n18. 'Aaron_Finch'\n19. 'Shimron_Hetmyer'\n20. 'Glenn_Phillips'\n21. 'KL_Rahul'\n22. 'Rassie van der Dussen'\n23. 'Kane_Williamson'\n\n\n",
            "text/latex": "\\begin{enumerate*}\n\\item 'Aiden\\_Markram'\n\\item 'Jos\\_Buttler'\n\\item 'Charith\\_Asalanka'\n\\item 'Muhammad\\_Rizwan'\n\\item 'Najibullah\\_Zadran'\n\\item 'Evin\\_Lewis'\n\\item 'Jason\\_Roy'\n\\item 'Michael\\_Leask'\n\\item 'David\\_Warner'\n\\item 'Liton\\_Das'\n\\item 'Babar\\_Azam'\n\\item 'Pathum\\_Nissanka'\n\\item 'Mohammad\\_Shahzad'\n\\item 'Daryl\\_Mitchell'\n\\item 'Temaba\\_Bavuma'\n\\item 'Martin\\_Guptill'\n\\item 'Rohit\\_Sharma'\n\\item 'Aaron\\_Finch'\n\\item 'Shimron\\_Hetmyer'\n\\item 'Glenn\\_Phillips'\n\\item 'KL\\_Rahul'\n\\item 'Rassie van der Dussen'\n\\item 'Kane\\_Williamson'\n\\end{enumerate*}\n",
            "text/plain": [
              " [1] \"Aiden_Markram\"         \"Jos_Buttler\"           \"Charith_Asalanka\"     \n",
              " [4] \"Muhammad_Rizwan\"       \"Najibullah_Zadran\"     \"Evin_Lewis\"           \n",
              " [7] \"Jason_Roy\"             \"Michael_Leask\"         \"David_Warner\"         \n",
              "[10] \"Liton_Das\"             \"Babar_Azam\"            \"Pathum_Nissanka\"      \n",
              "[13] \"Mohammad_Shahzad\"      \"Daryl_Mitchell\"        \"Temaba_Bavuma\"        \n",
              "[16] \"Martin_Guptill\"        \"Rohit_Sharma\"          \"Aaron_Finch\"          \n",
              "[19] \"Shimron_Hetmyer\"       \"Glenn_Phillips\"        \"KL_Rahul\"             \n",
              "[22] \"Rassie van der Dussen\" \"Kane_Williamson\"      "
            ]
          },
          "metadata": {}
        }
      ]
    },
    {
      "cell_type": "code",
      "source": [
        "unique(df$bowling_style)"
      ],
      "metadata": {
        "colab": {
          "base_uri": "https://localhost:8080/",
          "height": 34
        },
        "id": "1mlHSjTZxitL",
        "outputId": "d5d8ef16-716c-49f4-8f2a-8e99c76e48df"
      },
      "execution_count": 13,
      "outputs": [
        {
          "output_type": "display_data",
          "data": {
            "text/html": [
              "<style>\n",
              ".list-inline {list-style: none; margin:0; padding: 0}\n",
              ".list-inline>li {display: inline-block}\n",
              ".list-inline>li:not(:last-child)::after {content: \"\\00b7\"; padding: 0 .5ex}\n",
              "</style>\n",
              "<ol class=list-inline><li>'Pacer'</li><li>'Leg_spin'</li><li>'Off_spin'</li><li>'Orthodox'</li><li>'Unorthodox'</li></ol>\n"
            ],
            "text/markdown": "1. 'Pacer'\n2. 'Leg_spin'\n3. 'Off_spin'\n4. 'Orthodox'\n5. 'Unorthodox'\n\n\n",
            "text/latex": "\\begin{enumerate*}\n\\item 'Pacer'\n\\item 'Leg\\_spin'\n\\item 'Off\\_spin'\n\\item 'Orthodox'\n\\item 'Unorthodox'\n\\end{enumerate*}\n",
            "text/plain": [
              "[1] \"Pacer\"      \"Leg_spin\"   \"Off_spin\"   \"Orthodox\"   \"Unorthodox\""
            ]
          },
          "metadata": {}
        }
      ]
    },
    {
      "cell_type": "code",
      "source": [
        "max(unique(df$best_bowler))"
      ],
      "metadata": {
        "colab": {
          "base_uri": "https://localhost:8080/",
          "height": 34
        },
        "id": "4R0XmAk2PZYp",
        "outputId": "1437c655-9ba6-4078-b10b-c7a40dff693b"
      },
      "execution_count": 14,
      "outputs": [
        {
          "output_type": "display_data",
          "data": {
            "text/html": [
              "'Wanindu_Hasaranga'"
            ],
            "text/markdown": "'Wanindu_Hasaranga'",
            "text/latex": "'Wanindu\\_Hasaranga'",
            "text/plain": [
              "[1] \"Wanindu_Hasaranga\""
            ]
          },
          "metadata": {}
        }
      ]
    },
    {
      "cell_type": "code",
      "source": [
        "subset(df, df$best_bowler==\"Wanindu_Hasaranga\")"
      ],
      "metadata": {
        "colab": {
          "base_uri": "https://localhost:8080/",
          "height": 179
        },
        "id": "fqv06j9Bvd50",
        "outputId": "138a4b09-805c-4ab1-a509-c40e92d37fd1"
      },
      "execution_count": 15,
      "outputs": [
        {
          "output_type": "display_data",
          "data": {
            "text/html": [
              "<table class=\"dataframe\">\n",
              "<caption>A data.frame: 2 × 24</caption>\n",
              "<thead>\n",
              "\t<tr><th></th><th scope=col>X</th><th scope=col>team_1</th><th scope=col>team_2</th><th scope=col>stage</th><th scope=col>Winner_toss</th><th scope=col>Toss_descision</th><th scope=col>time</th><th scope=col>venue</th><th scope=col>avg_temperature</th><th scope=col>best_bowler</th><th scope=col>⋯</th><th scope=col>best_bowler_country</th><th scope=col>best_batter</th><th scope=col>batting_hand</th><th scope=col>high_indvidual_scores</th><th scope=col>strike_rate</th><th scope=col>best_batter_team</th><th scope=col>target</th><th scope=col>target_achieved</th><th scope=col>Player_of_the_match</th><th scope=col>Winner</th></tr>\n",
              "\t<tr><th></th><th scope=col>&lt;chr&gt;</th><th scope=col>&lt;chr&gt;</th><th scope=col>&lt;chr&gt;</th><th scope=col>&lt;chr&gt;</th><th scope=col>&lt;chr&gt;</th><th scope=col>&lt;chr&gt;</th><th scope=col>&lt;chr&gt;</th><th scope=col>&lt;chr&gt;</th><th scope=col>&lt;int&gt;</th><th scope=col>&lt;chr&gt;</th><th scope=col>⋯</th><th scope=col>&lt;chr&gt;</th><th scope=col>&lt;chr&gt;</th><th scope=col>&lt;chr&gt;</th><th scope=col>&lt;int&gt;</th><th scope=col>&lt;dbl&gt;</th><th scope=col>&lt;chr&gt;</th><th scope=col>&lt;int&gt;</th><th scope=col>&lt;int&gt;</th><th scope=col>&lt;chr&gt;</th><th scope=col>&lt;chr&gt;</th></tr>\n",
              "</thead>\n",
              "<tbody>\n",
              "\t<tr><th scope=row>17</th><td>Match_17</td><td>England </td><td>Srilanka</td><td>Group_stage</td><td>Srilanka</td><td>Fielding</td><td>evening</td><td>Sharjah  </td><td>28</td><td>Wanindu_Hasaranga</td><td>⋯</td><td>Srilanka</td><td>Jos_Buttler    </td><td>Right</td><td>101</td><td>150.75</td><td>England</td><td>164</td><td>0</td><td>Jos_Buttler    </td><td>England </td></tr>\n",
              "\t<tr><th scope=row>23</th><td>Match_23</td><td>Srilanka</td><td>Windies </td><td>Group_stage</td><td>Windies </td><td>Fielding</td><td>evening</td><td>Abu_Dhabi</td><td>28</td><td>Wanindu_Hasaranga</td><td>⋯</td><td>Srilanka</td><td>Shimron_Hetmyer</td><td>Left </td><td> 81</td><td>150.00</td><td>Windies</td><td>190</td><td>0</td><td>Chrith_Adalanka</td><td>Srilanka</td></tr>\n",
              "</tbody>\n",
              "</table>\n"
            ],
            "text/markdown": "\nA data.frame: 2 × 24\n\n| <!--/--> | X &lt;chr&gt; | team_1 &lt;chr&gt; | team_2 &lt;chr&gt; | stage &lt;chr&gt; | Winner_toss &lt;chr&gt; | Toss_descision &lt;chr&gt; | time &lt;chr&gt; | venue &lt;chr&gt; | avg_temperature &lt;int&gt; | best_bowler &lt;chr&gt; | ⋯ ⋯ | best_bowler_country &lt;chr&gt; | best_batter &lt;chr&gt; | batting_hand &lt;chr&gt; | high_indvidual_scores &lt;int&gt; | strike_rate &lt;dbl&gt; | best_batter_team &lt;chr&gt; | target &lt;int&gt; | target_achieved &lt;int&gt; | Player_of_the_match &lt;chr&gt; | Winner &lt;chr&gt; |\n|---|---|---|---|---|---|---|---|---|---|---|---|---|---|---|---|---|---|---|---|---|---|\n| 17 | Match_17 | England  | Srilanka | Group_stage | Srilanka | Fielding | evening | Sharjah   | 28 | Wanindu_Hasaranga | ⋯ | Srilanka | Jos_Buttler     | Right | 101 | 150.75 | England | 164 | 0 | Jos_Buttler     | England  |\n| 23 | Match_23 | Srilanka | Windies  | Group_stage | Windies  | Fielding | evening | Abu_Dhabi | 28 | Wanindu_Hasaranga | ⋯ | Srilanka | Shimron_Hetmyer | Left  |  81 | 150.00 | Windies | 190 | 0 | Chrith_Adalanka | Srilanka |\n\n",
            "text/latex": "A data.frame: 2 × 24\n\\begin{tabular}{r|lllllllllllllllllllll}\n  & X & team\\_1 & team\\_2 & stage & Winner\\_toss & Toss\\_descision & time & venue & avg\\_temperature & best\\_bowler & ⋯ & best\\_bowler\\_country & best\\_batter & batting\\_hand & high\\_indvidual\\_scores & strike\\_rate & best\\_batter\\_team & target & target\\_achieved & Player\\_of\\_the\\_match & Winner\\\\\n  & <chr> & <chr> & <chr> & <chr> & <chr> & <chr> & <chr> & <chr> & <int> & <chr> & ⋯ & <chr> & <chr> & <chr> & <int> & <dbl> & <chr> & <int> & <int> & <chr> & <chr>\\\\\n\\hline\n\t17 & Match\\_17 & England  & Srilanka & Group\\_stage & Srilanka & Fielding & evening & Sharjah   & 28 & Wanindu\\_Hasaranga & ⋯ & Srilanka & Jos\\_Buttler     & Right & 101 & 150.75 & England & 164 & 0 & Jos\\_Buttler     & England \\\\\n\t23 & Match\\_23 & Srilanka & Windies  & Group\\_stage & Windies  & Fielding & evening & Abu\\_Dhabi & 28 & Wanindu\\_Hasaranga & ⋯ & Srilanka & Shimron\\_Hetmyer & Left  &  81 & 150.00 & Windies & 190 & 0 & Chrith\\_Adalanka & Srilanka\\\\\n\\end{tabular}\n",
            "text/plain": [
              "   X        team_1   team_2   stage       Winner_toss Toss_descision time   \n",
              "17 Match_17 England  Srilanka Group_stage Srilanka    Fielding       evening\n",
              "23 Match_23 Srilanka Windies  Group_stage Windies     Fielding       evening\n",
              "   venue     avg_temperature best_bowler       ⋯ best_bowler_country\n",
              "17 Sharjah   28              Wanindu_Hasaranga ⋯ Srilanka           \n",
              "23 Abu_Dhabi 28              Wanindu_Hasaranga ⋯ Srilanka           \n",
              "   best_batter     batting_hand high_indvidual_scores strike_rate\n",
              "17 Jos_Buttler     Right        101                   150.75     \n",
              "23 Shimron_Hetmyer Left          81                   150.00     \n",
              "   best_batter_team target target_achieved Player_of_the_match Winner  \n",
              "17 England          164    0               Jos_Buttler         England \n",
              "23 Windies          190    0               Chrith_Adalanka     Srilanka"
            ]
          },
          "metadata": {}
        }
      ]
    },
    {
      "cell_type": "code",
      "source": [
        "subset(df, df$team_1==\"India\")"
      ],
      "metadata": {
        "colab": {
          "base_uri": "https://localhost:8080/",
          "height": 227
        },
        "id": "tFtXSXNFwg3x",
        "outputId": "8aecf53d-ccdc-4190-d6bc-2d4786cff618"
      },
      "execution_count": 16,
      "outputs": [
        {
          "output_type": "display_data",
          "data": {
            "text/html": [
              "<table class=\"dataframe\">\n",
              "<caption>A data.frame: 3 × 24</caption>\n",
              "<thead>\n",
              "\t<tr><th></th><th scope=col>X</th><th scope=col>team_1</th><th scope=col>team_2</th><th scope=col>stage</th><th scope=col>Winner_toss</th><th scope=col>Toss_descision</th><th scope=col>time</th><th scope=col>venue</th><th scope=col>avg_temperature</th><th scope=col>best_bowler</th><th scope=col>⋯</th><th scope=col>best_bowler_country</th><th scope=col>best_batter</th><th scope=col>batting_hand</th><th scope=col>high_indvidual_scores</th><th scope=col>strike_rate</th><th scope=col>best_batter_team</th><th scope=col>target</th><th scope=col>target_achieved</th><th scope=col>Player_of_the_match</th><th scope=col>Winner</th></tr>\n",
              "\t<tr><th></th><th scope=col>&lt;chr&gt;</th><th scope=col>&lt;chr&gt;</th><th scope=col>&lt;chr&gt;</th><th scope=col>&lt;chr&gt;</th><th scope=col>&lt;chr&gt;</th><th scope=col>&lt;chr&gt;</th><th scope=col>&lt;chr&gt;</th><th scope=col>&lt;chr&gt;</th><th scope=col>&lt;int&gt;</th><th scope=col>&lt;chr&gt;</th><th scope=col>⋯</th><th scope=col>&lt;chr&gt;</th><th scope=col>&lt;chr&gt;</th><th scope=col>&lt;chr&gt;</th><th scope=col>&lt;int&gt;</th><th scope=col>&lt;dbl&gt;</th><th scope=col>&lt;chr&gt;</th><th scope=col>&lt;int&gt;</th><th scope=col>&lt;int&gt;</th><th scope=col>&lt;chr&gt;</th><th scope=col>&lt;chr&gt;</th></tr>\n",
              "</thead>\n",
              "<tbody>\n",
              "\t<tr><th scope=row>21</th><td>Match_21</td><td>India</td><td>Afghanistan</td><td>Group_stage</td><td>Afghanistan</td><td>Fielding</td><td>evening</td><td>Abu_Dhabi</td><td>29</td><td>Mohammed Shami </td><td>⋯</td><td>India</td><td>Rohit_Sharma</td><td>Right</td><td>74</td><td>157.45</td><td>India</td><td>211</td><td>0</td><td>Rohit_Sharma   </td><td>India</td></tr>\n",
              "\t<tr><th scope=row>25</th><td>Match_25</td><td>India</td><td>ScotLand   </td><td>Group_stage</td><td>India      </td><td>Fielding</td><td>evening</td><td>Dubai    </td><td>28</td><td>Ravindra_Jadeja</td><td>⋯</td><td>India</td><td>KL_Rahul    </td><td>Right</td><td>50</td><td>263.16</td><td>India</td><td> 86</td><td>1</td><td>Ravindra_Jadeja</td><td>India</td></tr>\n",
              "\t<tr><th scope=row>30</th><td>Match_30</td><td>India</td><td>Namibia    </td><td>Group_stage</td><td>India      </td><td>Fielding</td><td>evening</td><td>Dubai    </td><td>28</td><td>Ravindra_Jadeja</td><td>⋯</td><td>India</td><td>Rohit_Sharma</td><td>Right</td><td>56</td><td>151.35</td><td>India</td><td>133</td><td>1</td><td>Ravindra_Jadeja</td><td>India</td></tr>\n",
              "</tbody>\n",
              "</table>\n"
            ],
            "text/markdown": "\nA data.frame: 3 × 24\n\n| <!--/--> | X &lt;chr&gt; | team_1 &lt;chr&gt; | team_2 &lt;chr&gt; | stage &lt;chr&gt; | Winner_toss &lt;chr&gt; | Toss_descision &lt;chr&gt; | time &lt;chr&gt; | venue &lt;chr&gt; | avg_temperature &lt;int&gt; | best_bowler &lt;chr&gt; | ⋯ ⋯ | best_bowler_country &lt;chr&gt; | best_batter &lt;chr&gt; | batting_hand &lt;chr&gt; | high_indvidual_scores &lt;int&gt; | strike_rate &lt;dbl&gt; | best_batter_team &lt;chr&gt; | target &lt;int&gt; | target_achieved &lt;int&gt; | Player_of_the_match &lt;chr&gt; | Winner &lt;chr&gt; |\n|---|---|---|---|---|---|---|---|---|---|---|---|---|---|---|---|---|---|---|---|---|---|\n| 21 | Match_21 | India | Afghanistan | Group_stage | Afghanistan | Fielding | evening | Abu_Dhabi | 29 | Mohammed Shami  | ⋯ | India | Rohit_Sharma | Right | 74 | 157.45 | India | 211 | 0 | Rohit_Sharma    | India |\n| 25 | Match_25 | India | ScotLand    | Group_stage | India       | Fielding | evening | Dubai     | 28 | Ravindra_Jadeja | ⋯ | India | KL_Rahul     | Right | 50 | 263.16 | India |  86 | 1 | Ravindra_Jadeja | India |\n| 30 | Match_30 | India | Namibia     | Group_stage | India       | Fielding | evening | Dubai     | 28 | Ravindra_Jadeja | ⋯ | India | Rohit_Sharma | Right | 56 | 151.35 | India | 133 | 1 | Ravindra_Jadeja | India |\n\n",
            "text/latex": "A data.frame: 3 × 24\n\\begin{tabular}{r|lllllllllllllllllllll}\n  & X & team\\_1 & team\\_2 & stage & Winner\\_toss & Toss\\_descision & time & venue & avg\\_temperature & best\\_bowler & ⋯ & best\\_bowler\\_country & best\\_batter & batting\\_hand & high\\_indvidual\\_scores & strike\\_rate & best\\_batter\\_team & target & target\\_achieved & Player\\_of\\_the\\_match & Winner\\\\\n  & <chr> & <chr> & <chr> & <chr> & <chr> & <chr> & <chr> & <chr> & <int> & <chr> & ⋯ & <chr> & <chr> & <chr> & <int> & <dbl> & <chr> & <int> & <int> & <chr> & <chr>\\\\\n\\hline\n\t21 & Match\\_21 & India & Afghanistan & Group\\_stage & Afghanistan & Fielding & evening & Abu\\_Dhabi & 29 & Mohammed Shami  & ⋯ & India & Rohit\\_Sharma & Right & 74 & 157.45 & India & 211 & 0 & Rohit\\_Sharma    & India\\\\\n\t25 & Match\\_25 & India & ScotLand    & Group\\_stage & India       & Fielding & evening & Dubai     & 28 & Ravindra\\_Jadeja & ⋯ & India & KL\\_Rahul     & Right & 50 & 263.16 & India &  86 & 1 & Ravindra\\_Jadeja & India\\\\\n\t30 & Match\\_30 & India & Namibia     & Group\\_stage & India       & Fielding & evening & Dubai     & 28 & Ravindra\\_Jadeja & ⋯ & India & Rohit\\_Sharma & Right & 56 & 151.35 & India & 133 & 1 & Ravindra\\_Jadeja & India\\\\\n\\end{tabular}\n",
            "text/plain": [
              "   X        team_1 team_2      stage       Winner_toss Toss_descision time   \n",
              "21 Match_21 India  Afghanistan Group_stage Afghanistan Fielding       evening\n",
              "25 Match_25 India  ScotLand    Group_stage India       Fielding       evening\n",
              "30 Match_30 India  Namibia     Group_stage India       Fielding       evening\n",
              "   venue     avg_temperature best_bowler     ⋯ best_bowler_country best_batter \n",
              "21 Abu_Dhabi 29              Mohammed Shami  ⋯ India               Rohit_Sharma\n",
              "25 Dubai     28              Ravindra_Jadeja ⋯ India               KL_Rahul    \n",
              "30 Dubai     28              Ravindra_Jadeja ⋯ India               Rohit_Sharma\n",
              "   batting_hand high_indvidual_scores strike_rate best_batter_team target\n",
              "21 Right        74                    157.45      India            211   \n",
              "25 Right        50                    263.16      India             86   \n",
              "30 Right        56                    151.35      India            133   \n",
              "   target_achieved Player_of_the_match Winner\n",
              "21 0               Rohit_Sharma        India \n",
              "25 1               Ravindra_Jadeja     India \n",
              "30 1               Ravindra_Jadeja     India "
            ]
          },
          "metadata": {}
        }
      ]
    },
    {
      "cell_type": "code",
      "source": [
        "df$most_individual_wickets[df$best_bowler==\"Wanindu_Hasaranga\"]"
      ],
      "metadata": {
        "colab": {
          "base_uri": "https://localhost:8080/",
          "height": 34
        },
        "id": "625q_L9EgcAW",
        "outputId": "8857f09d-2a56-4681-a290-ec9ccf325ccb"
      },
      "execution_count": 17,
      "outputs": [
        {
          "output_type": "display_data",
          "data": {
            "text/html": [
              "<style>\n",
              ".list-inline {list-style: none; margin:0; padding: 0}\n",
              ".list-inline>li {display: inline-block}\n",
              ".list-inline>li:not(:last-child)::after {content: \"\\00b7\"; padding: 0 .5ex}\n",
              "</style>\n",
              "<ol class=list-inline><li>3</li><li>2</li></ol>\n"
            ],
            "text/markdown": "1. 3\n2. 2\n\n\n",
            "text/latex": "\\begin{enumerate*}\n\\item 3\n\\item 2\n\\end{enumerate*}\n",
            "text/plain": [
              "[1] 3 2"
            ]
          },
          "metadata": {}
        }
      ]
    },
    {
      "cell_type": "code",
      "source": [
        "colnames(df)"
      ],
      "metadata": {
        "id": "GaI0XX3Uz6Ok",
        "colab": {
          "base_uri": "https://localhost:8080/",
          "height": 51
        },
        "outputId": "cbb2b146-ee5f-4f44-94bf-bb5659d6e6b1"
      },
      "execution_count": 18,
      "outputs": [
        {
          "output_type": "display_data",
          "data": {
            "text/html": [
              "<style>\n",
              ".list-inline {list-style: none; margin:0; padding: 0}\n",
              ".list-inline>li {display: inline-block}\n",
              ".list-inline>li:not(:last-child)::after {content: \"\\00b7\"; padding: 0 .5ex}\n",
              "</style>\n",
              "<ol class=list-inline><li>'X'</li><li>'team_1'</li><li>'team_2'</li><li>'stage'</li><li>'Winner_toss'</li><li>'Toss_descision'</li><li>'time'</li><li>'venue'</li><li>'avg_temperature'</li><li>'best_bowler'</li><li>'bowling_arm'</li><li>'bowling_style'</li><li>'most_individual_wickets'</li><li>'economy'</li><li>'best_bowler_country'</li><li>'best_batter'</li><li>'batting_hand'</li><li>'high_indvidual_scores'</li><li>'strike_rate'</li><li>'best_batter_team'</li><li>'target'</li><li>'target_achieved'</li><li>'Player_of_the_match'</li><li>'Winner'</li></ol>\n"
            ],
            "text/markdown": "1. 'X'\n2. 'team_1'\n3. 'team_2'\n4. 'stage'\n5. 'Winner_toss'\n6. 'Toss_descision'\n7. 'time'\n8. 'venue'\n9. 'avg_temperature'\n10. 'best_bowler'\n11. 'bowling_arm'\n12. 'bowling_style'\n13. 'most_individual_wickets'\n14. 'economy'\n15. 'best_bowler_country'\n16. 'best_batter'\n17. 'batting_hand'\n18. 'high_indvidual_scores'\n19. 'strike_rate'\n20. 'best_batter_team'\n21. 'target'\n22. 'target_achieved'\n23. 'Player_of_the_match'\n24. 'Winner'\n\n\n",
            "text/latex": "\\begin{enumerate*}\n\\item 'X'\n\\item 'team\\_1'\n\\item 'team\\_2'\n\\item 'stage'\n\\item 'Winner\\_toss'\n\\item 'Toss\\_descision'\n\\item 'time'\n\\item 'venue'\n\\item 'avg\\_temperature'\n\\item 'best\\_bowler'\n\\item 'bowling\\_arm'\n\\item 'bowling\\_style'\n\\item 'most\\_individual\\_wickets'\n\\item 'economy'\n\\item 'best\\_bowler\\_country'\n\\item 'best\\_batter'\n\\item 'batting\\_hand'\n\\item 'high\\_indvidual\\_scores'\n\\item 'strike\\_rate'\n\\item 'best\\_batter\\_team'\n\\item 'target'\n\\item 'target\\_achieved'\n\\item 'Player\\_of\\_the\\_match'\n\\item 'Winner'\n\\end{enumerate*}\n",
            "text/plain": [
              " [1] \"X\"                       \"team_1\"                 \n",
              " [3] \"team_2\"                  \"stage\"                  \n",
              " [5] \"Winner_toss\"             \"Toss_descision\"         \n",
              " [7] \"time\"                    \"venue\"                  \n",
              " [9] \"avg_temperature\"         \"best_bowler\"            \n",
              "[11] \"bowling_arm\"             \"bowling_style\"          \n",
              "[13] \"most_individual_wickets\" \"economy\"                \n",
              "[15] \"best_bowler_country\"     \"best_batter\"            \n",
              "[17] \"batting_hand\"            \"high_indvidual_scores\"  \n",
              "[19] \"strike_rate\"             \"best_batter_team\"       \n",
              "[21] \"target\"                  \"target_achieved\"        \n",
              "[23] \"Player_of_the_match\"     \"Winner\"                 "
            ]
          },
          "metadata": {}
        }
      ]
    },
    {
      "cell_type": "code",
      "source": [
        "unique(df$stage)"
      ],
      "metadata": {
        "colab": {
          "base_uri": "https://localhost:8080/",
          "height": 34
        },
        "id": "2y4xz4vDKcOH",
        "outputId": "7f0d4588-2f4e-4675-c203-2b532604f4d0"
      },
      "execution_count": 19,
      "outputs": [
        {
          "output_type": "display_data",
          "data": {
            "text/html": [
              "<style>\n",
              ".list-inline {list-style: none; margin:0; padding: 0}\n",
              ".list-inline>li {display: inline-block}\n",
              ".list-inline>li:not(:last-child)::after {content: \"\\00b7\"; padding: 0 .5ex}\n",
              "</style>\n",
              "<ol class=list-inline><li>'Group_stage'</li><li>'Semi_Final'</li><li>'Final'</li></ol>\n"
            ],
            "text/markdown": "1. 'Group_stage'\n2. 'Semi_Final'\n3. 'Final'\n\n\n",
            "text/latex": "\\begin{enumerate*}\n\\item 'Group\\_stage'\n\\item 'Semi\\_Final'\n\\item 'Final'\n\\end{enumerate*}\n",
            "text/plain": [
              "[1] \"Group_stage\" \"Semi_Final\"  \"Final\"      "
            ]
          },
          "metadata": {}
        }
      ]
    },
    {
      "cell_type": "code",
      "source": [
        "sum(is.na(df))"
      ],
      "metadata": {
        "colab": {
          "base_uri": "https://localhost:8080/",
          "height": 34
        },
        "id": "WICb1UkYuo4g",
        "outputId": "f5a950d5-dd16-4eb6-f226-86fd59ccfd2d"
      },
      "execution_count": 20,
      "outputs": [
        {
          "output_type": "display_data",
          "data": {
            "text/html": [
              "0"
            ],
            "text/markdown": "0",
            "text/latex": "0",
            "text/plain": [
              "[1] 0"
            ]
          },
          "metadata": {}
        }
      ]
    },
    {
      "cell_type": "code",
      "source": [
        "sum(is.na(df$best_batter_team))"
      ],
      "metadata": {
        "colab": {
          "base_uri": "https://localhost:8080/",
          "height": 34
        },
        "id": "3tpE7cDzvl_L",
        "outputId": "5009f89e-0519-49ad-ffbc-1f647b5dba1e"
      },
      "execution_count": 21,
      "outputs": [
        {
          "output_type": "display_data",
          "data": {
            "text/html": [
              "0"
            ],
            "text/markdown": "0",
            "text/latex": "0",
            "text/plain": [
              "[1] 0"
            ]
          },
          "metadata": {}
        }
      ]
    },
    {
      "cell_type": "code",
      "source": [
        "unique(df$team_1)"
      ],
      "metadata": {
        "colab": {
          "base_uri": "https://localhost:8080/",
          "height": 34
        },
        "id": "I1nFarXFJPgJ",
        "outputId": "2f3a5c5d-b3a1-4ec8-a7f4-21a80c8c5fc2"
      },
      "execution_count": 22,
      "outputs": [
        {
          "output_type": "display_data",
          "data": {
            "text/html": [
              "<style>\n",
              ".list-inline {list-style: none; margin:0; padding: 0}\n",
              ".list-inline>li {display: inline-block}\n",
              ".list-inline>li:not(:last-child)::after {content: \"\\00b7\"; padding: 0 .5ex}\n",
              "</style>\n",
              "<ol class=list-inline><li>'Australia'</li><li>'England'</li><li>'Srilanka'</li><li>'Pakistan'</li><li>'Afghanistan'</li><li>'SouthAfrica'</li><li>'Namibia'</li><li>'Windies'</li><li>'New_Zealand'</li><li>'India'</li></ol>\n"
            ],
            "text/markdown": "1. 'Australia'\n2. 'England'\n3. 'Srilanka'\n4. 'Pakistan'\n5. 'Afghanistan'\n6. 'SouthAfrica'\n7. 'Namibia'\n8. 'Windies'\n9. 'New_Zealand'\n10. 'India'\n\n\n",
            "text/latex": "\\begin{enumerate*}\n\\item 'Australia'\n\\item 'England'\n\\item 'Srilanka'\n\\item 'Pakistan'\n\\item 'Afghanistan'\n\\item 'SouthAfrica'\n\\item 'Namibia'\n\\item 'Windies'\n\\item 'New\\_Zealand'\n\\item 'India'\n\\end{enumerate*}\n",
            "text/plain": [
              " [1] \"Australia\"   \"England\"     \"Srilanka\"    \"Pakistan\"    \"Afghanistan\"\n",
              " [6] \"SouthAfrica\" \"Namibia\"     \"Windies\"     \"New_Zealand\" \"India\"      "
            ]
          },
          "metadata": {}
        }
      ]
    },
    {
      "cell_type": "code",
      "source": [
        "unique(df$team_2)"
      ],
      "metadata": {
        "colab": {
          "base_uri": "https://localhost:8080/",
          "height": 34
        },
        "id": "-AA6abcCJUqw",
        "outputId": "ec088fe1-80a3-4856-9679-8f693022ba1e"
      },
      "execution_count": 23,
      "outputs": [
        {
          "output_type": "display_data",
          "data": {
            "text/html": [
              "<style>\n",
              ".list-inline {list-style: none; margin:0; padding: 0}\n",
              ".list-inline>li {display: inline-block}\n",
              ".list-inline>li:not(:last-child)::after {content: \"\\00b7\"; padding: 0 .5ex}\n",
              "</style>\n",
              "<ol class=list-inline><li>'SouthAfrica'</li><li>'Windies'</li><li>'Bangladesh'</li><li>'India'</li><li>'Scotland'</li><li>'New_Zealand'</li><li>'ScotLand'</li><li>'Srilanka'</li><li>'Afghanistan'</li><li>'Australia'</li><li>'Namibia'</li><li>'England'</li><li>'Pakistan'</li></ol>\n"
            ],
            "text/markdown": "1. 'SouthAfrica'\n2. 'Windies'\n3. 'Bangladesh'\n4. 'India'\n5. 'Scotland'\n6. 'New_Zealand'\n7. 'ScotLand'\n8. 'Srilanka'\n9. 'Afghanistan'\n10. 'Australia'\n11. 'Namibia'\n12. 'England'\n13. 'Pakistan'\n\n\n",
            "text/latex": "\\begin{enumerate*}\n\\item 'SouthAfrica'\n\\item 'Windies'\n\\item 'Bangladesh'\n\\item 'India'\n\\item 'Scotland'\n\\item 'New\\_Zealand'\n\\item 'ScotLand'\n\\item 'Srilanka'\n\\item 'Afghanistan'\n\\item 'Australia'\n\\item 'Namibia'\n\\item 'England'\n\\item 'Pakistan'\n\\end{enumerate*}\n",
            "text/plain": [
              " [1] \"SouthAfrica\" \"Windies\"     \"Bangladesh\"  \"India\"       \"Scotland\"   \n",
              " [6] \"New_Zealand\" \"ScotLand\"    \"Srilanka\"    \"Afghanistan\" \"Australia\"  \n",
              "[11] \"Namibia\"     \"England\"     \"Pakistan\"   "
            ]
          },
          "metadata": {}
        }
      ]
    },
    {
      "cell_type": "markdown",
      "source": [
        "# **PERFORMANCE STATISTICS FOR INDIA VS NAMIBIA**"
      ],
      "metadata": {
        "id": "Osgrv4h7FE6E"
      }
    },
    {
      "cell_type": "code",
      "source": [
        "df$best_batter[df$team_1==\"India\" ]"
      ],
      "metadata": {
        "colab": {
          "base_uri": "https://localhost:8080/",
          "height": 34
        },
        "id": "CsY76xBi1ef3",
        "outputId": "8459f4bc-b463-4589-dba5-5e2cd04ca2d3"
      },
      "execution_count": 24,
      "outputs": [
        {
          "output_type": "display_data",
          "data": {
            "text/html": [
              "<style>\n",
              ".list-inline {list-style: none; margin:0; padding: 0}\n",
              ".list-inline>li {display: inline-block}\n",
              ".list-inline>li:not(:last-child)::after {content: \"\\00b7\"; padding: 0 .5ex}\n",
              "</style>\n",
              "<ol class=list-inline><li>'Rohit_Sharma'</li><li>'KL_Rahul'</li><li>'Rohit_Sharma'</li></ol>\n"
            ],
            "text/markdown": "1. 'Rohit_Sharma'\n2. 'KL_Rahul'\n3. 'Rohit_Sharma'\n\n\n",
            "text/latex": "\\begin{enumerate*}\n\\item 'Rohit\\_Sharma'\n\\item 'KL\\_Rahul'\n\\item 'Rohit\\_Sharma'\n\\end{enumerate*}\n",
            "text/plain": [
              "[1] \"Rohit_Sharma\" \"KL_Rahul\"     \"Rohit_Sharma\""
            ]
          },
          "metadata": {}
        }
      ]
    },
    {
      "cell_type": "code",
      "source": [
        "df$best_bowler[df$team_1==\"India\"]"
      ],
      "metadata": {
        "colab": {
          "base_uri": "https://localhost:8080/",
          "height": 34
        },
        "id": "2nwBGl7_6OHD",
        "outputId": "a2ee446f-045c-432d-cd3c-2dfdf94ee37c"
      },
      "execution_count": 25,
      "outputs": [
        {
          "output_type": "display_data",
          "data": {
            "text/html": [
              "<style>\n",
              ".list-inline {list-style: none; margin:0; padding: 0}\n",
              ".list-inline>li {display: inline-block}\n",
              ".list-inline>li:not(:last-child)::after {content: \"\\00b7\"; padding: 0 .5ex}\n",
              "</style>\n",
              "<ol class=list-inline><li>'Mohammed Shami'</li><li>'Ravindra_Jadeja'</li><li>'Ravindra_Jadeja'</li></ol>\n"
            ],
            "text/markdown": "1. 'Mohammed Shami'\n2. 'Ravindra_Jadeja'\n3. 'Ravindra_Jadeja'\n\n\n",
            "text/latex": "\\begin{enumerate*}\n\\item 'Mohammed Shami'\n\\item 'Ravindra\\_Jadeja'\n\\item 'Ravindra\\_Jadeja'\n\\end{enumerate*}\n",
            "text/plain": [
              "[1] \"Mohammed Shami\"  \"Ravindra_Jadeja\" \"Ravindra_Jadeja\""
            ]
          },
          "metadata": {}
        }
      ]
    },
    {
      "cell_type": "code",
      "source": [
        "df$high_indvidual_scores[df$team_1==\"India\"]"
      ],
      "metadata": {
        "colab": {
          "base_uri": "https://localhost:8080/",
          "height": 34
        },
        "id": "1owHyqEV6UdW",
        "outputId": "b38c5cd0-9759-4486-cd42-307f879c109c"
      },
      "execution_count": 26,
      "outputs": [
        {
          "output_type": "display_data",
          "data": {
            "text/html": [
              "<style>\n",
              ".list-inline {list-style: none; margin:0; padding: 0}\n",
              ".list-inline>li {display: inline-block}\n",
              ".list-inline>li:not(:last-child)::after {content: \"\\00b7\"; padding: 0 .5ex}\n",
              "</style>\n",
              "<ol class=list-inline><li>74</li><li>50</li><li>56</li></ol>\n"
            ],
            "text/markdown": "1. 74\n2. 50\n3. 56\n\n\n",
            "text/latex": "\\begin{enumerate*}\n\\item 74\n\\item 50\n\\item 56\n\\end{enumerate*}\n",
            "text/plain": [
              "[1] 74 50 56"
            ]
          },
          "metadata": {}
        }
      ]
    },
    {
      "cell_type": "code",
      "source": [
        "max(df$high_indvidual_scores[df$team_1==\"India\"])"
      ],
      "metadata": {
        "colab": {
          "base_uri": "https://localhost:8080/",
          "height": 34
        },
        "id": "rFQv3LHa94zo",
        "outputId": "7223e0fd-70cc-4238-c4dc-ed00464595d9"
      },
      "execution_count": 27,
      "outputs": [
        {
          "output_type": "display_data",
          "data": {
            "text/html": [
              "74"
            ],
            "text/markdown": "74",
            "text/latex": "74",
            "text/plain": [
              "[1] 74"
            ]
          },
          "metadata": {}
        }
      ]
    },
    {
      "cell_type": "code",
      "source": [
        "df$best_batter[df$best_batter_team==\"India\" & df$high_indvidual_scores==74]"
      ],
      "metadata": {
        "colab": {
          "base_uri": "https://localhost:8080/",
          "height": 34
        },
        "id": "hILOKNRR9cy2",
        "outputId": "c58d458b-d1d6-470d-d582-5bbcb7c64ea5"
      },
      "execution_count": 28,
      "outputs": [
        {
          "output_type": "display_data",
          "data": {
            "text/html": [
              "'Rohit_Sharma'"
            ],
            "text/markdown": "'Rohit_Sharma'",
            "text/latex": "'Rohit\\_Sharma'",
            "text/plain": [
              "[1] \"Rohit_Sharma\""
            ]
          },
          "metadata": {}
        }
      ]
    },
    {
      "cell_type": "code",
      "source": [
        "df$target[df$team_1==\"India\"]"
      ],
      "metadata": {
        "colab": {
          "base_uri": "https://localhost:8080/",
          "height": 34
        },
        "id": "xMHdumRN-IIM",
        "outputId": "b265bbd5-8c16-4e39-987b-e470257ba173"
      },
      "execution_count": 29,
      "outputs": [
        {
          "output_type": "display_data",
          "data": {
            "text/html": [
              "<style>\n",
              ".list-inline {list-style: none; margin:0; padding: 0}\n",
              ".list-inline>li {display: inline-block}\n",
              ".list-inline>li:not(:last-child)::after {content: \"\\00b7\"; padding: 0 .5ex}\n",
              "</style>\n",
              "<ol class=list-inline><li>211</li><li>86</li><li>133</li></ol>\n"
            ],
            "text/markdown": "1. 211\n2. 86\n3. 133\n\n\n",
            "text/latex": "\\begin{enumerate*}\n\\item 211\n\\item 86\n\\item 133\n\\end{enumerate*}\n",
            "text/plain": [
              "[1] 211  86 133"
            ]
          },
          "metadata": {}
        }
      ]
    },
    {
      "cell_type": "code",
      "source": [
        "max(df$target[df$team_1==\"India\"])"
      ],
      "metadata": {
        "colab": {
          "base_uri": "https://localhost:8080/",
          "height": 34
        },
        "id": "TlbyFXcI-3G5",
        "outputId": "ec1a7fd0-ae3f-48f5-fe85-9a0a301f8175"
      },
      "execution_count": 30,
      "outputs": [
        {
          "output_type": "display_data",
          "data": {
            "text/html": [
              "211"
            ],
            "text/markdown": "211",
            "text/latex": "211",
            "text/plain": [
              "[1] 211"
            ]
          },
          "metadata": {}
        }
      ]
    },
    {
      "cell_type": "code",
      "source": [
        "india= subset(df, df$team_1==\"India\")\n",
        "india"
      ],
      "metadata": {
        "colab": {
          "base_uri": "https://localhost:8080/",
          "height": 227
        },
        "id": "IHgG-PCc-Woh",
        "outputId": "9e9fe6e5-e465-4d1c-a6ee-7d0dad3aef29"
      },
      "execution_count": 31,
      "outputs": [
        {
          "output_type": "display_data",
          "data": {
            "text/html": [
              "<table class=\"dataframe\">\n",
              "<caption>A data.frame: 3 × 24</caption>\n",
              "<thead>\n",
              "\t<tr><th></th><th scope=col>X</th><th scope=col>team_1</th><th scope=col>team_2</th><th scope=col>stage</th><th scope=col>Winner_toss</th><th scope=col>Toss_descision</th><th scope=col>time</th><th scope=col>venue</th><th scope=col>avg_temperature</th><th scope=col>best_bowler</th><th scope=col>⋯</th><th scope=col>best_bowler_country</th><th scope=col>best_batter</th><th scope=col>batting_hand</th><th scope=col>high_indvidual_scores</th><th scope=col>strike_rate</th><th scope=col>best_batter_team</th><th scope=col>target</th><th scope=col>target_achieved</th><th scope=col>Player_of_the_match</th><th scope=col>Winner</th></tr>\n",
              "\t<tr><th></th><th scope=col>&lt;chr&gt;</th><th scope=col>&lt;chr&gt;</th><th scope=col>&lt;chr&gt;</th><th scope=col>&lt;chr&gt;</th><th scope=col>&lt;chr&gt;</th><th scope=col>&lt;chr&gt;</th><th scope=col>&lt;chr&gt;</th><th scope=col>&lt;chr&gt;</th><th scope=col>&lt;int&gt;</th><th scope=col>&lt;chr&gt;</th><th scope=col>⋯</th><th scope=col>&lt;chr&gt;</th><th scope=col>&lt;chr&gt;</th><th scope=col>&lt;chr&gt;</th><th scope=col>&lt;int&gt;</th><th scope=col>&lt;dbl&gt;</th><th scope=col>&lt;chr&gt;</th><th scope=col>&lt;int&gt;</th><th scope=col>&lt;int&gt;</th><th scope=col>&lt;chr&gt;</th><th scope=col>&lt;chr&gt;</th></tr>\n",
              "</thead>\n",
              "<tbody>\n",
              "\t<tr><th scope=row>21</th><td>Match_21</td><td>India</td><td>Afghanistan</td><td>Group_stage</td><td>Afghanistan</td><td>Fielding</td><td>evening</td><td>Abu_Dhabi</td><td>29</td><td>Mohammed Shami </td><td>⋯</td><td>India</td><td>Rohit_Sharma</td><td>Right</td><td>74</td><td>157.45</td><td>India</td><td>211</td><td>0</td><td>Rohit_Sharma   </td><td>India</td></tr>\n",
              "\t<tr><th scope=row>25</th><td>Match_25</td><td>India</td><td>ScotLand   </td><td>Group_stage</td><td>India      </td><td>Fielding</td><td>evening</td><td>Dubai    </td><td>28</td><td>Ravindra_Jadeja</td><td>⋯</td><td>India</td><td>KL_Rahul    </td><td>Right</td><td>50</td><td>263.16</td><td>India</td><td> 86</td><td>1</td><td>Ravindra_Jadeja</td><td>India</td></tr>\n",
              "\t<tr><th scope=row>30</th><td>Match_30</td><td>India</td><td>Namibia    </td><td>Group_stage</td><td>India      </td><td>Fielding</td><td>evening</td><td>Dubai    </td><td>28</td><td>Ravindra_Jadeja</td><td>⋯</td><td>India</td><td>Rohit_Sharma</td><td>Right</td><td>56</td><td>151.35</td><td>India</td><td>133</td><td>1</td><td>Ravindra_Jadeja</td><td>India</td></tr>\n",
              "</tbody>\n",
              "</table>\n"
            ],
            "text/markdown": "\nA data.frame: 3 × 24\n\n| <!--/--> | X &lt;chr&gt; | team_1 &lt;chr&gt; | team_2 &lt;chr&gt; | stage &lt;chr&gt; | Winner_toss &lt;chr&gt; | Toss_descision &lt;chr&gt; | time &lt;chr&gt; | venue &lt;chr&gt; | avg_temperature &lt;int&gt; | best_bowler &lt;chr&gt; | ⋯ ⋯ | best_bowler_country &lt;chr&gt; | best_batter &lt;chr&gt; | batting_hand &lt;chr&gt; | high_indvidual_scores &lt;int&gt; | strike_rate &lt;dbl&gt; | best_batter_team &lt;chr&gt; | target &lt;int&gt; | target_achieved &lt;int&gt; | Player_of_the_match &lt;chr&gt; | Winner &lt;chr&gt; |\n|---|---|---|---|---|---|---|---|---|---|---|---|---|---|---|---|---|---|---|---|---|---|\n| 21 | Match_21 | India | Afghanistan | Group_stage | Afghanistan | Fielding | evening | Abu_Dhabi | 29 | Mohammed Shami  | ⋯ | India | Rohit_Sharma | Right | 74 | 157.45 | India | 211 | 0 | Rohit_Sharma    | India |\n| 25 | Match_25 | India | ScotLand    | Group_stage | India       | Fielding | evening | Dubai     | 28 | Ravindra_Jadeja | ⋯ | India | KL_Rahul     | Right | 50 | 263.16 | India |  86 | 1 | Ravindra_Jadeja | India |\n| 30 | Match_30 | India | Namibia     | Group_stage | India       | Fielding | evening | Dubai     | 28 | Ravindra_Jadeja | ⋯ | India | Rohit_Sharma | Right | 56 | 151.35 | India | 133 | 1 | Ravindra_Jadeja | India |\n\n",
            "text/latex": "A data.frame: 3 × 24\n\\begin{tabular}{r|lllllllllllllllllllll}\n  & X & team\\_1 & team\\_2 & stage & Winner\\_toss & Toss\\_descision & time & venue & avg\\_temperature & best\\_bowler & ⋯ & best\\_bowler\\_country & best\\_batter & batting\\_hand & high\\_indvidual\\_scores & strike\\_rate & best\\_batter\\_team & target & target\\_achieved & Player\\_of\\_the\\_match & Winner\\\\\n  & <chr> & <chr> & <chr> & <chr> & <chr> & <chr> & <chr> & <chr> & <int> & <chr> & ⋯ & <chr> & <chr> & <chr> & <int> & <dbl> & <chr> & <int> & <int> & <chr> & <chr>\\\\\n\\hline\n\t21 & Match\\_21 & India & Afghanistan & Group\\_stage & Afghanistan & Fielding & evening & Abu\\_Dhabi & 29 & Mohammed Shami  & ⋯ & India & Rohit\\_Sharma & Right & 74 & 157.45 & India & 211 & 0 & Rohit\\_Sharma    & India\\\\\n\t25 & Match\\_25 & India & ScotLand    & Group\\_stage & India       & Fielding & evening & Dubai     & 28 & Ravindra\\_Jadeja & ⋯ & India & KL\\_Rahul     & Right & 50 & 263.16 & India &  86 & 1 & Ravindra\\_Jadeja & India\\\\\n\t30 & Match\\_30 & India & Namibia     & Group\\_stage & India       & Fielding & evening & Dubai     & 28 & Ravindra\\_Jadeja & ⋯ & India & Rohit\\_Sharma & Right & 56 & 151.35 & India & 133 & 1 & Ravindra\\_Jadeja & India\\\\\n\\end{tabular}\n",
            "text/plain": [
              "   X        team_1 team_2      stage       Winner_toss Toss_descision time   \n",
              "21 Match_21 India  Afghanistan Group_stage Afghanistan Fielding       evening\n",
              "25 Match_25 India  ScotLand    Group_stage India       Fielding       evening\n",
              "30 Match_30 India  Namibia     Group_stage India       Fielding       evening\n",
              "   venue     avg_temperature best_bowler     ⋯ best_bowler_country best_batter \n",
              "21 Abu_Dhabi 29              Mohammed Shami  ⋯ India               Rohit_Sharma\n",
              "25 Dubai     28              Ravindra_Jadeja ⋯ India               KL_Rahul    \n",
              "30 Dubai     28              Ravindra_Jadeja ⋯ India               Rohit_Sharma\n",
              "   batting_hand high_indvidual_scores strike_rate best_batter_team target\n",
              "21 Right        74                    157.45      India            211   \n",
              "25 Right        50                    263.16      India             86   \n",
              "30 Right        56                    151.35      India            133   \n",
              "   target_achieved Player_of_the_match Winner\n",
              "21 0               Rohit_Sharma        India \n",
              "25 1               Ravindra_Jadeja     India \n",
              "30 1               Ravindra_Jadeja     India "
            ]
          },
          "metadata": {}
        }
      ]
    },
    {
      "cell_type": "code",
      "source": [
        "india$best_bowler[1]=\"Ravindra_Jadeja\"\n",
        "india$best_bowler[2]= \"Mohhamed Shami\""
      ],
      "metadata": {
        "id": "Xl_YE1rezkID"
      },
      "execution_count": 32,
      "outputs": []
    },
    {
      "cell_type": "code",
      "source": [
        "india"
      ],
      "metadata": {
        "colab": {
          "base_uri": "https://localhost:8080/",
          "height": 227
        },
        "id": "jtKZqy5B0K64",
        "outputId": "53821c5e-bfe8-4460-d890-1846b14ba235"
      },
      "execution_count": 33,
      "outputs": [
        {
          "output_type": "display_data",
          "data": {
            "text/html": [
              "<table class=\"dataframe\">\n",
              "<caption>A data.frame: 3 × 24</caption>\n",
              "<thead>\n",
              "\t<tr><th></th><th scope=col>X</th><th scope=col>team_1</th><th scope=col>team_2</th><th scope=col>stage</th><th scope=col>Winner_toss</th><th scope=col>Toss_descision</th><th scope=col>time</th><th scope=col>venue</th><th scope=col>avg_temperature</th><th scope=col>best_bowler</th><th scope=col>⋯</th><th scope=col>best_bowler_country</th><th scope=col>best_batter</th><th scope=col>batting_hand</th><th scope=col>high_indvidual_scores</th><th scope=col>strike_rate</th><th scope=col>best_batter_team</th><th scope=col>target</th><th scope=col>target_achieved</th><th scope=col>Player_of_the_match</th><th scope=col>Winner</th></tr>\n",
              "\t<tr><th></th><th scope=col>&lt;chr&gt;</th><th scope=col>&lt;chr&gt;</th><th scope=col>&lt;chr&gt;</th><th scope=col>&lt;chr&gt;</th><th scope=col>&lt;chr&gt;</th><th scope=col>&lt;chr&gt;</th><th scope=col>&lt;chr&gt;</th><th scope=col>&lt;chr&gt;</th><th scope=col>&lt;int&gt;</th><th scope=col>&lt;chr&gt;</th><th scope=col>⋯</th><th scope=col>&lt;chr&gt;</th><th scope=col>&lt;chr&gt;</th><th scope=col>&lt;chr&gt;</th><th scope=col>&lt;int&gt;</th><th scope=col>&lt;dbl&gt;</th><th scope=col>&lt;chr&gt;</th><th scope=col>&lt;int&gt;</th><th scope=col>&lt;int&gt;</th><th scope=col>&lt;chr&gt;</th><th scope=col>&lt;chr&gt;</th></tr>\n",
              "</thead>\n",
              "<tbody>\n",
              "\t<tr><th scope=row>21</th><td>Match_21</td><td>India</td><td>Afghanistan</td><td>Group_stage</td><td>Afghanistan</td><td>Fielding</td><td>evening</td><td>Abu_Dhabi</td><td>29</td><td>Ravindra_Jadeja</td><td>⋯</td><td>India</td><td>Rohit_Sharma</td><td>Right</td><td>74</td><td>157.45</td><td>India</td><td>211</td><td>0</td><td>Rohit_Sharma   </td><td>India</td></tr>\n",
              "\t<tr><th scope=row>25</th><td>Match_25</td><td>India</td><td>ScotLand   </td><td>Group_stage</td><td>India      </td><td>Fielding</td><td>evening</td><td>Dubai    </td><td>28</td><td>Mohhamed Shami </td><td>⋯</td><td>India</td><td>KL_Rahul    </td><td>Right</td><td>50</td><td>263.16</td><td>India</td><td> 86</td><td>1</td><td>Ravindra_Jadeja</td><td>India</td></tr>\n",
              "\t<tr><th scope=row>30</th><td>Match_30</td><td>India</td><td>Namibia    </td><td>Group_stage</td><td>India      </td><td>Fielding</td><td>evening</td><td>Dubai    </td><td>28</td><td>Ravindra_Jadeja</td><td>⋯</td><td>India</td><td>Rohit_Sharma</td><td>Right</td><td>56</td><td>151.35</td><td>India</td><td>133</td><td>1</td><td>Ravindra_Jadeja</td><td>India</td></tr>\n",
              "</tbody>\n",
              "</table>\n"
            ],
            "text/markdown": "\nA data.frame: 3 × 24\n\n| <!--/--> | X &lt;chr&gt; | team_1 &lt;chr&gt; | team_2 &lt;chr&gt; | stage &lt;chr&gt; | Winner_toss &lt;chr&gt; | Toss_descision &lt;chr&gt; | time &lt;chr&gt; | venue &lt;chr&gt; | avg_temperature &lt;int&gt; | best_bowler &lt;chr&gt; | ⋯ ⋯ | best_bowler_country &lt;chr&gt; | best_batter &lt;chr&gt; | batting_hand &lt;chr&gt; | high_indvidual_scores &lt;int&gt; | strike_rate &lt;dbl&gt; | best_batter_team &lt;chr&gt; | target &lt;int&gt; | target_achieved &lt;int&gt; | Player_of_the_match &lt;chr&gt; | Winner &lt;chr&gt; |\n|---|---|---|---|---|---|---|---|---|---|---|---|---|---|---|---|---|---|---|---|---|---|\n| 21 | Match_21 | India | Afghanistan | Group_stage | Afghanistan | Fielding | evening | Abu_Dhabi | 29 | Ravindra_Jadeja | ⋯ | India | Rohit_Sharma | Right | 74 | 157.45 | India | 211 | 0 | Rohit_Sharma    | India |\n| 25 | Match_25 | India | ScotLand    | Group_stage | India       | Fielding | evening | Dubai     | 28 | Mohhamed Shami  | ⋯ | India | KL_Rahul     | Right | 50 | 263.16 | India |  86 | 1 | Ravindra_Jadeja | India |\n| 30 | Match_30 | India | Namibia     | Group_stage | India       | Fielding | evening | Dubai     | 28 | Ravindra_Jadeja | ⋯ | India | Rohit_Sharma | Right | 56 | 151.35 | India | 133 | 1 | Ravindra_Jadeja | India |\n\n",
            "text/latex": "A data.frame: 3 × 24\n\\begin{tabular}{r|lllllllllllllllllllll}\n  & X & team\\_1 & team\\_2 & stage & Winner\\_toss & Toss\\_descision & time & venue & avg\\_temperature & best\\_bowler & ⋯ & best\\_bowler\\_country & best\\_batter & batting\\_hand & high\\_indvidual\\_scores & strike\\_rate & best\\_batter\\_team & target & target\\_achieved & Player\\_of\\_the\\_match & Winner\\\\\n  & <chr> & <chr> & <chr> & <chr> & <chr> & <chr> & <chr> & <chr> & <int> & <chr> & ⋯ & <chr> & <chr> & <chr> & <int> & <dbl> & <chr> & <int> & <int> & <chr> & <chr>\\\\\n\\hline\n\t21 & Match\\_21 & India & Afghanistan & Group\\_stage & Afghanistan & Fielding & evening & Abu\\_Dhabi & 29 & Ravindra\\_Jadeja & ⋯ & India & Rohit\\_Sharma & Right & 74 & 157.45 & India & 211 & 0 & Rohit\\_Sharma    & India\\\\\n\t25 & Match\\_25 & India & ScotLand    & Group\\_stage & India       & Fielding & evening & Dubai     & 28 & Mohhamed Shami  & ⋯ & India & KL\\_Rahul     & Right & 50 & 263.16 & India &  86 & 1 & Ravindra\\_Jadeja & India\\\\\n\t30 & Match\\_30 & India & Namibia     & Group\\_stage & India       & Fielding & evening & Dubai     & 28 & Ravindra\\_Jadeja & ⋯ & India & Rohit\\_Sharma & Right & 56 & 151.35 & India & 133 & 1 & Ravindra\\_Jadeja & India\\\\\n\\end{tabular}\n",
            "text/plain": [
              "   X        team_1 team_2      stage       Winner_toss Toss_descision time   \n",
              "21 Match_21 India  Afghanistan Group_stage Afghanistan Fielding       evening\n",
              "25 Match_25 India  ScotLand    Group_stage India       Fielding       evening\n",
              "30 Match_30 India  Namibia     Group_stage India       Fielding       evening\n",
              "   venue     avg_temperature best_bowler     ⋯ best_bowler_country best_batter \n",
              "21 Abu_Dhabi 29              Ravindra_Jadeja ⋯ India               Rohit_Sharma\n",
              "25 Dubai     28              Mohhamed Shami  ⋯ India               KL_Rahul    \n",
              "30 Dubai     28              Ravindra_Jadeja ⋯ India               Rohit_Sharma\n",
              "   batting_hand high_indvidual_scores strike_rate best_batter_team target\n",
              "21 Right        74                    157.45      India            211   \n",
              "25 Right        50                    263.16      India             86   \n",
              "30 Right        56                    151.35      India            133   \n",
              "   target_achieved Player_of_the_match Winner\n",
              "21 0               Rohit_Sharma        India \n",
              "25 1               Ravindra_Jadeja     India \n",
              "30 1               Ravindra_Jadeja     India "
            ]
          },
          "metadata": {}
        }
      ]
    },
    {
      "cell_type": "code",
      "source": [
        "india$team_2[india$team_1==\"India\" & india$target==133]"
      ],
      "metadata": {
        "colab": {
          "base_uri": "https://localhost:8080/",
          "height": 34
        },
        "id": "h1U0ErFI9y4r",
        "outputId": "4acfe403-1c28-4d2d-8c34-20732deaaa2c"
      },
      "execution_count": 34,
      "outputs": [
        {
          "output_type": "display_data",
          "data": {
            "text/html": [
              "'Namibia'"
            ],
            "text/markdown": "'Namibia'",
            "text/latex": "'Namibia'",
            "text/plain": [
              "[1] \"Namibia\""
            ]
          },
          "metadata": {}
        }
      ]
    },
    {
      "cell_type": "code",
      "source": [
        "india$Winner_toss[india$team_1==\"India\" & india$team_2==\"Namibia\"]"
      ],
      "metadata": {
        "colab": {
          "base_uri": "https://localhost:8080/",
          "height": 34
        },
        "id": "05yLT_kxzqPf",
        "outputId": "fc200c71-e26c-4465-ff4b-72067633a057"
      },
      "execution_count": 35,
      "outputs": [
        {
          "output_type": "display_data",
          "data": {
            "text/html": [
              "'India'"
            ],
            "text/markdown": "'India'",
            "text/latex": "'India'",
            "text/plain": [
              "[1] \"India\""
            ]
          },
          "metadata": {}
        }
      ]
    },
    {
      "cell_type": "code",
      "source": [
        "india$Toss_descision[india$team_1==\"India\" & india$team_2==\"Namibia\" & india$Winner_toss==\"India\"]"
      ],
      "metadata": {
        "colab": {
          "base_uri": "https://localhost:8080/",
          "height": 34
        },
        "id": "DPl8MJf7z1Ll",
        "outputId": "3d4f7750-61a3-4a99-d091-1ce9413c37bb"
      },
      "execution_count": 36,
      "outputs": [
        {
          "output_type": "display_data",
          "data": {
            "text/html": [
              "'Fielding'"
            ],
            "text/markdown": "'Fielding'",
            "text/latex": "'Fielding'",
            "text/plain": [
              "[1] \"Fielding\""
            ]
          },
          "metadata": {}
        }
      ]
    },
    {
      "cell_type": "code",
      "source": [
        "india$best_batter[india$team_2==\"Namibia\" ]"
      ],
      "metadata": {
        "colab": {
          "base_uri": "https://localhost:8080/",
          "height": 34
        },
        "id": "eZVqpCCXwC2v",
        "outputId": "349f68bc-0c56-4b1f-e757-4d21631d6b02"
      },
      "execution_count": 37,
      "outputs": [
        {
          "output_type": "display_data",
          "data": {
            "text/html": [
              "'Rohit_Sharma'"
            ],
            "text/markdown": "'Rohit_Sharma'",
            "text/latex": "'Rohit\\_Sharma'",
            "text/plain": [
              "[1] \"Rohit_Sharma\""
            ]
          },
          "metadata": {}
        }
      ]
    },
    {
      "cell_type": "code",
      "source": [
        "india$best_bowler[india$team_2==\"Namibia\" ]"
      ],
      "metadata": {
        "colab": {
          "base_uri": "https://localhost:8080/",
          "height": 34
        },
        "id": "3nuL1pxBwKG2",
        "outputId": "8aa1f75a-6d9f-407c-d9aa-de69991790ec"
      },
      "execution_count": 38,
      "outputs": [
        {
          "output_type": "display_data",
          "data": {
            "text/html": [
              "'Ravindra_Jadeja'"
            ],
            "text/markdown": "'Ravindra_Jadeja'",
            "text/latex": "'Ravindra\\_Jadeja'",
            "text/plain": [
              "[1] \"Ravindra_Jadeja\""
            ]
          },
          "metadata": {}
        }
      ]
    },
    {
      "cell_type": "code",
      "source": [
        "india$high_indvidual_scores[india$team_2==\"Namibia\"]"
      ],
      "metadata": {
        "colab": {
          "base_uri": "https://localhost:8080/",
          "height": 34
        },
        "id": "acp07b5PwTuM",
        "outputId": "7ce8b8e0-3fe5-4ce0-b9a0-89077b32cd5b"
      },
      "execution_count": 39,
      "outputs": [
        {
          "output_type": "display_data",
          "data": {
            "text/html": [
              "56"
            ],
            "text/markdown": "56",
            "text/latex": "56",
            "text/plain": [
              "[1] 56"
            ]
          },
          "metadata": {}
        }
      ]
    },
    {
      "cell_type": "code",
      "source": [
        "india$best_batter[india$team_2==\"Namibia\" & india$high_indvidual_scores==56]"
      ],
      "metadata": {
        "colab": {
          "base_uri": "https://localhost:8080/",
          "height": 34
        },
        "id": "hJ_8aMpTwZ1p",
        "outputId": "0782e269-9df8-4e81-fab0-b6500c223507"
      },
      "execution_count": 40,
      "outputs": [
        {
          "output_type": "display_data",
          "data": {
            "text/html": [
              "'Rohit_Sharma'"
            ],
            "text/markdown": "'Rohit_Sharma'",
            "text/latex": "'Rohit\\_Sharma'",
            "text/plain": [
              "[1] \"Rohit_Sharma\""
            ]
          },
          "metadata": {}
        }
      ]
    },
    {
      "cell_type": "code",
      "source": [
        "india$target[india$team_2==\"Namibia\"]"
      ],
      "metadata": {
        "colab": {
          "base_uri": "https://localhost:8080/",
          "height": 34
        },
        "id": "_bZawNwjwhRq",
        "outputId": "6fcec08e-2582-4fda-aec3-2bdac5ec9ce5"
      },
      "execution_count": 41,
      "outputs": [
        {
          "output_type": "display_data",
          "data": {
            "text/html": [
              "133"
            ],
            "text/markdown": "133",
            "text/latex": "133",
            "text/plain": [
              "[1] 133"
            ]
          },
          "metadata": {}
        }
      ]
    },
    {
      "cell_type": "code",
      "source": [
        "india$avg_temperature[india$team_1==\"India\" & india$team_2==\"Namibia\"]"
      ],
      "metadata": {
        "colab": {
          "base_uri": "https://localhost:8080/",
          "height": 34
        },
        "id": "Jq0d9AGbFCI9",
        "outputId": "8c9a9f78-c43e-46f4-b0d7-14c9edb53b11"
      },
      "execution_count": 42,
      "outputs": [
        {
          "output_type": "display_data",
          "data": {
            "text/html": [
              "28"
            ],
            "text/markdown": "28",
            "text/latex": "28",
            "text/plain": [
              "[1] 28"
            ]
          },
          "metadata": {}
        }
      ]
    },
    {
      "cell_type": "code",
      "source": [
        "india$venue[india$team_1==\"India\" & india$target==133]"
      ],
      "metadata": {
        "colab": {
          "base_uri": "https://localhost:8080/",
          "height": 34
        },
        "id": "3_VZJw0r_AWD",
        "outputId": "0de5e4d1-a48c-4ef0-dcfe-cce1268f2632"
      },
      "execution_count": 43,
      "outputs": [
        {
          "output_type": "display_data",
          "data": {
            "text/html": [
              "'Dubai'"
            ],
            "text/markdown": "'Dubai'",
            "text/latex": "'Dubai'",
            "text/plain": [
              "[1] \"Dubai\""
            ]
          },
          "metadata": {}
        }
      ]
    },
    {
      "cell_type": "code",
      "source": [
        "india$best_batter[india$team_1==\"India\" & india$team_2==\"Namibia\"]"
      ],
      "metadata": {
        "colab": {
          "base_uri": "https://localhost:8080/",
          "height": 34
        },
        "id": "19av9VUV_K_A",
        "outputId": "c54a5849-1cbe-4d8d-f090-0c22522cb9fc"
      },
      "execution_count": 44,
      "outputs": [
        {
          "output_type": "display_data",
          "data": {
            "text/html": [
              "'Rohit_Sharma'"
            ],
            "text/markdown": "'Rohit_Sharma'",
            "text/latex": "'Rohit\\_Sharma'",
            "text/plain": [
              "[1] \"Rohit_Sharma\""
            ]
          },
          "metadata": {}
        }
      ]
    },
    {
      "cell_type": "code",
      "source": [
        "india$strike_rate[india$team_1==\"India\" & india$team_2==\"Namibia\" & india$best_batter==\"Rohit_Sharma\"]"
      ],
      "metadata": {
        "colab": {
          "base_uri": "https://localhost:8080/",
          "height": 34
        },
        "id": "UZxIbVEJH3RQ",
        "outputId": "a5df46c5-ca0b-43a1-95e7-6fc056b506f4"
      },
      "execution_count": 45,
      "outputs": [
        {
          "output_type": "display_data",
          "data": {
            "text/html": [
              "151.35"
            ],
            "text/markdown": "151.35",
            "text/latex": "151.35",
            "text/plain": [
              "[1] 151.35"
            ]
          },
          "metadata": {}
        }
      ]
    },
    {
      "cell_type": "code",
      "source": [
        "india$best_bowler[india$team_1==\"India\" & india$team_2==\"Namibia\"]"
      ],
      "metadata": {
        "colab": {
          "base_uri": "https://localhost:8080/",
          "height": 34
        },
        "id": "--8Q1meD_Zei",
        "outputId": "92d8bc62-b15c-4470-9f16-e093b1dfd5a9"
      },
      "execution_count": 46,
      "outputs": [
        {
          "output_type": "display_data",
          "data": {
            "text/html": [
              "'Ravindra_Jadeja'"
            ],
            "text/markdown": "'Ravindra_Jadeja'",
            "text/latex": "'Ravindra\\_Jadeja'",
            "text/plain": [
              "[1] \"Ravindra_Jadeja\""
            ]
          },
          "metadata": {}
        }
      ]
    },
    {
      "cell_type": "code",
      "source": [
        "india$economy[india$team_1==\"India\" & india$team_2==\"Namibia\" & india$best_bowler==\"Ravindra_Jadeja\"]"
      ],
      "metadata": {
        "colab": {
          "base_uri": "https://localhost:8080/",
          "height": 34
        },
        "id": "zDej2SMKIDJS",
        "outputId": "b83986bd-9655-4545-e318-cb258c4462ab"
      },
      "execution_count": 47,
      "outputs": [
        {
          "output_type": "display_data",
          "data": {
            "text/html": [
              "4"
            ],
            "text/markdown": "4",
            "text/latex": "4",
            "text/plain": [
              "[1] 4"
            ]
          },
          "metadata": {}
        }
      ]
    },
    {
      "cell_type": "code",
      "source": [
        "india$high_indvidual_scores[india$team_1==\"India\" & india$team_2==\"Namibia\" & india$best_batter==\"Rohit_Sharma\"]"
      ],
      "metadata": {
        "colab": {
          "base_uri": "https://localhost:8080/",
          "height": 34
        },
        "id": "gGczMVhH_smU",
        "outputId": "c79bed1c-7ab5-4bad-a0bf-a0bf9e1ad449"
      },
      "execution_count": 48,
      "outputs": [
        {
          "output_type": "display_data",
          "data": {
            "text/html": [
              "56"
            ],
            "text/markdown": "56",
            "text/latex": "56",
            "text/plain": [
              "[1] 56"
            ]
          },
          "metadata": {}
        }
      ]
    },
    {
      "cell_type": "code",
      "source": [
        "india$most_individual_wickets[india$team_1==\"India\" & india$team_2==\"Namibia\" & india$best_bowler==\"Ravindra_Jadeja\"]"
      ],
      "metadata": {
        "colab": {
          "base_uri": "https://localhost:8080/",
          "height": 34
        },
        "id": "LxNg1mgCAJej",
        "outputId": "a7d083c8-5ee9-481f-d2a8-4e15bac57110"
      },
      "execution_count": 49,
      "outputs": [
        {
          "output_type": "display_data",
          "data": {
            "text/html": [
              "3"
            ],
            "text/markdown": "3",
            "text/latex": "3",
            "text/plain": [
              "[1] 3"
            ]
          },
          "metadata": {}
        }
      ]
    },
    {
      "cell_type": "code",
      "source": [
        "india$best_bowler[india$team_1==\"India\"]"
      ],
      "metadata": {
        "colab": {
          "base_uri": "https://localhost:8080/",
          "height": 34
        },
        "id": "LTHjXDDGyl3l",
        "outputId": "4d52f275-9da3-438e-c6cc-3dccf10c8ca1"
      },
      "execution_count": 50,
      "outputs": [
        {
          "output_type": "display_data",
          "data": {
            "text/html": [
              "<style>\n",
              ".list-inline {list-style: none; margin:0; padding: 0}\n",
              ".list-inline>li {display: inline-block}\n",
              ".list-inline>li:not(:last-child)::after {content: \"\\00b7\"; padding: 0 .5ex}\n",
              "</style>\n",
              "<ol class=list-inline><li>'Ravindra_Jadeja'</li><li>'Mohhamed Shami'</li><li>'Ravindra_Jadeja'</li></ol>\n"
            ],
            "text/markdown": "1. 'Ravindra_Jadeja'\n2. 'Mohhamed Shami'\n3. 'Ravindra_Jadeja'\n\n\n",
            "text/latex": "\\begin{enumerate*}\n\\item 'Ravindra\\_Jadeja'\n\\item 'Mohhamed Shami'\n\\item 'Ravindra\\_Jadeja'\n\\end{enumerate*}\n",
            "text/plain": [
              "[1] \"Ravindra_Jadeja\" \"Mohhamed Shami\"  \"Ravindra_Jadeja\""
            ]
          },
          "metadata": {}
        }
      ]
    },
    {
      "cell_type": "code",
      "source": [
        "india$most_individual_wickets[india$team_1==\"India\" & india$team_2==\"Namibia\" & india$best_bowler==\"Ravindra_Jadeja\"]"
      ],
      "metadata": {
        "colab": {
          "base_uri": "https://localhost:8080/",
          "height": 34
        },
        "id": "KrWakWCVywt-",
        "outputId": "1905c2fd-dbae-4cf4-f88d-51abf08161cf"
      },
      "execution_count": 51,
      "outputs": [
        {
          "output_type": "display_data",
          "data": {
            "text/html": [
              "3"
            ],
            "text/markdown": "3",
            "text/latex": "3",
            "text/plain": [
              "[1] 3"
            ]
          },
          "metadata": {}
        }
      ]
    },
    {
      "cell_type": "code",
      "source": [
        "india$Player_of_the_match[india$team_1==\"India\" & india$team_2==\"Namibia\"]"
      ],
      "metadata": {
        "colab": {
          "base_uri": "https://localhost:8080/",
          "height": 34
        },
        "id": "KoOgK_EmHg96",
        "outputId": "ac4b6b83-b0bb-4a55-e31c-bbf460b4c47c"
      },
      "execution_count": 52,
      "outputs": [
        {
          "output_type": "display_data",
          "data": {
            "text/html": [
              "'Ravindra_Jadeja'"
            ],
            "text/markdown": "'Ravindra_Jadeja'",
            "text/latex": "'Ravindra\\_Jadeja'",
            "text/plain": [
              "[1] \"Ravindra_Jadeja\""
            ]
          },
          "metadata": {}
        }
      ]
    },
    {
      "cell_type": "code",
      "source": [
        "india$venue[india$team_1==\"India\" & india$team_2==\"Namibia\"]"
      ],
      "metadata": {
        "colab": {
          "base_uri": "https://localhost:8080/",
          "height": 34
        },
        "id": "pkka98tFAc_C",
        "outputId": "6489bf84-5f9b-43c1-bb57-fb8b4a295d2a"
      },
      "execution_count": 53,
      "outputs": [
        {
          "output_type": "display_data",
          "data": {
            "text/html": [
              "'Dubai'"
            ],
            "text/markdown": "'Dubai'",
            "text/latex": "'Dubai'",
            "text/plain": [
              "[1] \"Dubai\""
            ]
          },
          "metadata": {}
        }
      ]
    },
    {
      "cell_type": "code",
      "source": [
        "india$Winner[india$team_1==\"India\" & india$team_2==\"Namibia\"]"
      ],
      "metadata": {
        "colab": {
          "base_uri": "https://localhost:8080/",
          "height": 34
        },
        "id": "G22I5fWQBc4y",
        "outputId": "1f7c1425-8ec1-4eea-8322-6aedd2ab71d4"
      },
      "execution_count": 54,
      "outputs": [
        {
          "output_type": "display_data",
          "data": {
            "text/html": [
              "'India'"
            ],
            "text/markdown": "'India'",
            "text/latex": "'India'",
            "text/plain": [
              "[1] \"India\""
            ]
          },
          "metadata": {}
        }
      ]
    },
    {
      "cell_type": "markdown",
      "source": [
        "# **PERFORMANCE STATISTICS OF INDIA VS AFGHANISTAN**"
      ],
      "metadata": {
        "id": "IMElzY9ZEx9q"
      }
    },
    {
      "cell_type": "code",
      "source": [
        "df$best_batter[df$team_1==\"India\" ]"
      ],
      "metadata": {
        "colab": {
          "base_uri": "https://localhost:8080/",
          "height": 34
        },
        "id": "JPFotLs6C4Eh",
        "outputId": "47cb8124-afe1-4c3d-c545-80aff10f1c27"
      },
      "execution_count": 55,
      "outputs": [
        {
          "output_type": "display_data",
          "data": {
            "text/html": [
              "<style>\n",
              ".list-inline {list-style: none; margin:0; padding: 0}\n",
              ".list-inline>li {display: inline-block}\n",
              ".list-inline>li:not(:last-child)::after {content: \"\\00b7\"; padding: 0 .5ex}\n",
              "</style>\n",
              "<ol class=list-inline><li>'Rohit_Sharma'</li><li>'KL_Rahul'</li><li>'Rohit_Sharma'</li></ol>\n"
            ],
            "text/markdown": "1. 'Rohit_Sharma'\n2. 'KL_Rahul'\n3. 'Rohit_Sharma'\n\n\n",
            "text/latex": "\\begin{enumerate*}\n\\item 'Rohit\\_Sharma'\n\\item 'KL\\_Rahul'\n\\item 'Rohit\\_Sharma'\n\\end{enumerate*}\n",
            "text/plain": [
              "[1] \"Rohit_Sharma\" \"KL_Rahul\"     \"Rohit_Sharma\""
            ]
          },
          "metadata": {}
        }
      ]
    },
    {
      "cell_type": "code",
      "source": [
        "df$best_bowler[df$team_1==\"India\"]"
      ],
      "metadata": {
        "colab": {
          "base_uri": "https://localhost:8080/",
          "height": 34
        },
        "id": "V8EMv-tNC-q4",
        "outputId": "64420d4c-424a-4ddb-ab18-9e67a3c6170c"
      },
      "execution_count": 56,
      "outputs": [
        {
          "output_type": "display_data",
          "data": {
            "text/html": [
              "<style>\n",
              ".list-inline {list-style: none; margin:0; padding: 0}\n",
              ".list-inline>li {display: inline-block}\n",
              ".list-inline>li:not(:last-child)::after {content: \"\\00b7\"; padding: 0 .5ex}\n",
              "</style>\n",
              "<ol class=list-inline><li>'Mohammed Shami'</li><li>'Ravindra_Jadeja'</li><li>'Ravindra_Jadeja'</li></ol>\n"
            ],
            "text/markdown": "1. 'Mohammed Shami'\n2. 'Ravindra_Jadeja'\n3. 'Ravindra_Jadeja'\n\n\n",
            "text/latex": "\\begin{enumerate*}\n\\item 'Mohammed Shami'\n\\item 'Ravindra\\_Jadeja'\n\\item 'Ravindra\\_Jadeja'\n\\end{enumerate*}\n",
            "text/plain": [
              "[1] \"Mohammed Shami\"  \"Ravindra_Jadeja\" \"Ravindra_Jadeja\""
            ]
          },
          "metadata": {}
        }
      ]
    },
    {
      "cell_type": "code",
      "source": [
        "df$high_indvidual_scores[df$team_1==\"India\"]"
      ],
      "metadata": {
        "colab": {
          "base_uri": "https://localhost:8080/",
          "height": 34
        },
        "id": "uDxjAAq1DED2",
        "outputId": "e40ad6e4-24cc-4964-845b-9f03055abde7"
      },
      "execution_count": 57,
      "outputs": [
        {
          "output_type": "display_data",
          "data": {
            "text/html": [
              "<style>\n",
              ".list-inline {list-style: none; margin:0; padding: 0}\n",
              ".list-inline>li {display: inline-block}\n",
              ".list-inline>li:not(:last-child)::after {content: \"\\00b7\"; padding: 0 .5ex}\n",
              "</style>\n",
              "<ol class=list-inline><li>74</li><li>50</li><li>56</li></ol>\n"
            ],
            "text/markdown": "1. 74\n2. 50\n3. 56\n\n\n",
            "text/latex": "\\begin{enumerate*}\n\\item 74\n\\item 50\n\\item 56\n\\end{enumerate*}\n",
            "text/plain": [
              "[1] 74 50 56"
            ]
          },
          "metadata": {}
        }
      ]
    },
    {
      "cell_type": "code",
      "source": [
        "max(df$high_indvidual_scores[df$team_1==\"India\"])"
      ],
      "metadata": {
        "colab": {
          "base_uri": "https://localhost:8080/",
          "height": 34
        },
        "id": "NV6heS6_DIxO",
        "outputId": "232aa678-f7fc-4fbc-c994-9e18911cee6d"
      },
      "execution_count": 58,
      "outputs": [
        {
          "output_type": "display_data",
          "data": {
            "text/html": [
              "74"
            ],
            "text/markdown": "74",
            "text/latex": "74",
            "text/plain": [
              "[1] 74"
            ]
          },
          "metadata": {}
        }
      ]
    },
    {
      "cell_type": "code",
      "source": [
        "df$best_batter[df$best_batter_team==\"India\" & df$high_indvidual_scores==74]"
      ],
      "metadata": {
        "colab": {
          "base_uri": "https://localhost:8080/",
          "height": 34
        },
        "id": "zXkrsJiWDNDp",
        "outputId": "13c4a814-7f40-418e-8086-367be33e07be"
      },
      "execution_count": 59,
      "outputs": [
        {
          "output_type": "display_data",
          "data": {
            "text/html": [
              "'Rohit_Sharma'"
            ],
            "text/markdown": "'Rohit_Sharma'",
            "text/latex": "'Rohit\\_Sharma'",
            "text/plain": [
              "[1] \"Rohit_Sharma\""
            ]
          },
          "metadata": {}
        }
      ]
    },
    {
      "cell_type": "code",
      "source": [
        "df$target[df$team_1==\"India\"]"
      ],
      "metadata": {
        "colab": {
          "base_uri": "https://localhost:8080/",
          "height": 34
        },
        "id": "Jkzt-J2FDUAu",
        "outputId": "f6d5865c-4f56-4717-f49c-1770dc8be280"
      },
      "execution_count": 60,
      "outputs": [
        {
          "output_type": "display_data",
          "data": {
            "text/html": [
              "<style>\n",
              ".list-inline {list-style: none; margin:0; padding: 0}\n",
              ".list-inline>li {display: inline-block}\n",
              ".list-inline>li:not(:last-child)::after {content: \"\\00b7\"; padding: 0 .5ex}\n",
              "</style>\n",
              "<ol class=list-inline><li>211</li><li>86</li><li>133</li></ol>\n"
            ],
            "text/markdown": "1. 211\n2. 86\n3. 133\n\n\n",
            "text/latex": "\\begin{enumerate*}\n\\item 211\n\\item 86\n\\item 133\n\\end{enumerate*}\n",
            "text/plain": [
              "[1] 211  86 133"
            ]
          },
          "metadata": {}
        }
      ]
    },
    {
      "cell_type": "code",
      "source": [
        "max(df$target[df$team_1==\"India\"])"
      ],
      "metadata": {
        "colab": {
          "base_uri": "https://localhost:8080/",
          "height": 34
        },
        "id": "8nWn89VODYpv",
        "outputId": "99c9b5c1-bc5d-45a2-d840-6cb563791a2b"
      },
      "execution_count": 61,
      "outputs": [
        {
          "output_type": "display_data",
          "data": {
            "text/html": [
              "211"
            ],
            "text/markdown": "211",
            "text/latex": "211",
            "text/plain": [
              "[1] 211"
            ]
          },
          "metadata": {}
        }
      ]
    },
    {
      "cell_type": "code",
      "source": [
        "ind= subset(df, df$team_1==\"India\")\n",
        "ind"
      ],
      "metadata": {
        "colab": {
          "base_uri": "https://localhost:8080/",
          "height": 227
        },
        "id": "Np1LniwxDeyC",
        "outputId": "cd64f697-a2c6-4817-84c5-92874e02fe0d"
      },
      "execution_count": 62,
      "outputs": [
        {
          "output_type": "display_data",
          "data": {
            "text/html": [
              "<table class=\"dataframe\">\n",
              "<caption>A data.frame: 3 × 24</caption>\n",
              "<thead>\n",
              "\t<tr><th></th><th scope=col>X</th><th scope=col>team_1</th><th scope=col>team_2</th><th scope=col>stage</th><th scope=col>Winner_toss</th><th scope=col>Toss_descision</th><th scope=col>time</th><th scope=col>venue</th><th scope=col>avg_temperature</th><th scope=col>best_bowler</th><th scope=col>⋯</th><th scope=col>best_bowler_country</th><th scope=col>best_batter</th><th scope=col>batting_hand</th><th scope=col>high_indvidual_scores</th><th scope=col>strike_rate</th><th scope=col>best_batter_team</th><th scope=col>target</th><th scope=col>target_achieved</th><th scope=col>Player_of_the_match</th><th scope=col>Winner</th></tr>\n",
              "\t<tr><th></th><th scope=col>&lt;chr&gt;</th><th scope=col>&lt;chr&gt;</th><th scope=col>&lt;chr&gt;</th><th scope=col>&lt;chr&gt;</th><th scope=col>&lt;chr&gt;</th><th scope=col>&lt;chr&gt;</th><th scope=col>&lt;chr&gt;</th><th scope=col>&lt;chr&gt;</th><th scope=col>&lt;int&gt;</th><th scope=col>&lt;chr&gt;</th><th scope=col>⋯</th><th scope=col>&lt;chr&gt;</th><th scope=col>&lt;chr&gt;</th><th scope=col>&lt;chr&gt;</th><th scope=col>&lt;int&gt;</th><th scope=col>&lt;dbl&gt;</th><th scope=col>&lt;chr&gt;</th><th scope=col>&lt;int&gt;</th><th scope=col>&lt;int&gt;</th><th scope=col>&lt;chr&gt;</th><th scope=col>&lt;chr&gt;</th></tr>\n",
              "</thead>\n",
              "<tbody>\n",
              "\t<tr><th scope=row>21</th><td>Match_21</td><td>India</td><td>Afghanistan</td><td>Group_stage</td><td>Afghanistan</td><td>Fielding</td><td>evening</td><td>Abu_Dhabi</td><td>29</td><td>Mohammed Shami </td><td>⋯</td><td>India</td><td>Rohit_Sharma</td><td>Right</td><td>74</td><td>157.45</td><td>India</td><td>211</td><td>0</td><td>Rohit_Sharma   </td><td>India</td></tr>\n",
              "\t<tr><th scope=row>25</th><td>Match_25</td><td>India</td><td>ScotLand   </td><td>Group_stage</td><td>India      </td><td>Fielding</td><td>evening</td><td>Dubai    </td><td>28</td><td>Ravindra_Jadeja</td><td>⋯</td><td>India</td><td>KL_Rahul    </td><td>Right</td><td>50</td><td>263.16</td><td>India</td><td> 86</td><td>1</td><td>Ravindra_Jadeja</td><td>India</td></tr>\n",
              "\t<tr><th scope=row>30</th><td>Match_30</td><td>India</td><td>Namibia    </td><td>Group_stage</td><td>India      </td><td>Fielding</td><td>evening</td><td>Dubai    </td><td>28</td><td>Ravindra_Jadeja</td><td>⋯</td><td>India</td><td>Rohit_Sharma</td><td>Right</td><td>56</td><td>151.35</td><td>India</td><td>133</td><td>1</td><td>Ravindra_Jadeja</td><td>India</td></tr>\n",
              "</tbody>\n",
              "</table>\n"
            ],
            "text/markdown": "\nA data.frame: 3 × 24\n\n| <!--/--> | X &lt;chr&gt; | team_1 &lt;chr&gt; | team_2 &lt;chr&gt; | stage &lt;chr&gt; | Winner_toss &lt;chr&gt; | Toss_descision &lt;chr&gt; | time &lt;chr&gt; | venue &lt;chr&gt; | avg_temperature &lt;int&gt; | best_bowler &lt;chr&gt; | ⋯ ⋯ | best_bowler_country &lt;chr&gt; | best_batter &lt;chr&gt; | batting_hand &lt;chr&gt; | high_indvidual_scores &lt;int&gt; | strike_rate &lt;dbl&gt; | best_batter_team &lt;chr&gt; | target &lt;int&gt; | target_achieved &lt;int&gt; | Player_of_the_match &lt;chr&gt; | Winner &lt;chr&gt; |\n|---|---|---|---|---|---|---|---|---|---|---|---|---|---|---|---|---|---|---|---|---|---|\n| 21 | Match_21 | India | Afghanistan | Group_stage | Afghanistan | Fielding | evening | Abu_Dhabi | 29 | Mohammed Shami  | ⋯ | India | Rohit_Sharma | Right | 74 | 157.45 | India | 211 | 0 | Rohit_Sharma    | India |\n| 25 | Match_25 | India | ScotLand    | Group_stage | India       | Fielding | evening | Dubai     | 28 | Ravindra_Jadeja | ⋯ | India | KL_Rahul     | Right | 50 | 263.16 | India |  86 | 1 | Ravindra_Jadeja | India |\n| 30 | Match_30 | India | Namibia     | Group_stage | India       | Fielding | evening | Dubai     | 28 | Ravindra_Jadeja | ⋯ | India | Rohit_Sharma | Right | 56 | 151.35 | India | 133 | 1 | Ravindra_Jadeja | India |\n\n",
            "text/latex": "A data.frame: 3 × 24\n\\begin{tabular}{r|lllllllllllllllllllll}\n  & X & team\\_1 & team\\_2 & stage & Winner\\_toss & Toss\\_descision & time & venue & avg\\_temperature & best\\_bowler & ⋯ & best\\_bowler\\_country & best\\_batter & batting\\_hand & high\\_indvidual\\_scores & strike\\_rate & best\\_batter\\_team & target & target\\_achieved & Player\\_of\\_the\\_match & Winner\\\\\n  & <chr> & <chr> & <chr> & <chr> & <chr> & <chr> & <chr> & <chr> & <int> & <chr> & ⋯ & <chr> & <chr> & <chr> & <int> & <dbl> & <chr> & <int> & <int> & <chr> & <chr>\\\\\n\\hline\n\t21 & Match\\_21 & India & Afghanistan & Group\\_stage & Afghanistan & Fielding & evening & Abu\\_Dhabi & 29 & Mohammed Shami  & ⋯ & India & Rohit\\_Sharma & Right & 74 & 157.45 & India & 211 & 0 & Rohit\\_Sharma    & India\\\\\n\t25 & Match\\_25 & India & ScotLand    & Group\\_stage & India       & Fielding & evening & Dubai     & 28 & Ravindra\\_Jadeja & ⋯ & India & KL\\_Rahul     & Right & 50 & 263.16 & India &  86 & 1 & Ravindra\\_Jadeja & India\\\\\n\t30 & Match\\_30 & India & Namibia     & Group\\_stage & India       & Fielding & evening & Dubai     & 28 & Ravindra\\_Jadeja & ⋯ & India & Rohit\\_Sharma & Right & 56 & 151.35 & India & 133 & 1 & Ravindra\\_Jadeja & India\\\\\n\\end{tabular}\n",
            "text/plain": [
              "   X        team_1 team_2      stage       Winner_toss Toss_descision time   \n",
              "21 Match_21 India  Afghanistan Group_stage Afghanistan Fielding       evening\n",
              "25 Match_25 India  ScotLand    Group_stage India       Fielding       evening\n",
              "30 Match_30 India  Namibia     Group_stage India       Fielding       evening\n",
              "   venue     avg_temperature best_bowler     ⋯ best_bowler_country best_batter \n",
              "21 Abu_Dhabi 29              Mohammed Shami  ⋯ India               Rohit_Sharma\n",
              "25 Dubai     28              Ravindra_Jadeja ⋯ India               KL_Rahul    \n",
              "30 Dubai     28              Ravindra_Jadeja ⋯ India               Rohit_Sharma\n",
              "   batting_hand high_indvidual_scores strike_rate best_batter_team target\n",
              "21 Right        74                    157.45      India            211   \n",
              "25 Right        50                    263.16      India             86   \n",
              "30 Right        56                    151.35      India            133   \n",
              "   target_achieved Player_of_the_match Winner\n",
              "21 0               Rohit_Sharma        India \n",
              "25 1               Ravindra_Jadeja     India \n",
              "30 1               Ravindra_Jadeja     India "
            ]
          },
          "metadata": {}
        }
      ]
    },
    {
      "cell_type": "code",
      "source": [
        "ind$best_bowler[1]=\"Ravindra_Jadeja\"\n",
        "ind$best_bowler[2]= \"Mohammed Shami\""
      ],
      "metadata": {
        "id": "digoBqi33FK3"
      },
      "execution_count": 63,
      "outputs": []
    },
    {
      "cell_type": "code",
      "source": [
        "ind"
      ],
      "metadata": {
        "colab": {
          "base_uri": "https://localhost:8080/",
          "height": 227
        },
        "id": "Kph-vH7H3Q3U",
        "outputId": "2ed9a53c-cd15-4545-cc5b-21fa9955c9b2"
      },
      "execution_count": 64,
      "outputs": [
        {
          "output_type": "display_data",
          "data": {
            "text/html": [
              "<table class=\"dataframe\">\n",
              "<caption>A data.frame: 3 × 24</caption>\n",
              "<thead>\n",
              "\t<tr><th></th><th scope=col>X</th><th scope=col>team_1</th><th scope=col>team_2</th><th scope=col>stage</th><th scope=col>Winner_toss</th><th scope=col>Toss_descision</th><th scope=col>time</th><th scope=col>venue</th><th scope=col>avg_temperature</th><th scope=col>best_bowler</th><th scope=col>⋯</th><th scope=col>best_bowler_country</th><th scope=col>best_batter</th><th scope=col>batting_hand</th><th scope=col>high_indvidual_scores</th><th scope=col>strike_rate</th><th scope=col>best_batter_team</th><th scope=col>target</th><th scope=col>target_achieved</th><th scope=col>Player_of_the_match</th><th scope=col>Winner</th></tr>\n",
              "\t<tr><th></th><th scope=col>&lt;chr&gt;</th><th scope=col>&lt;chr&gt;</th><th scope=col>&lt;chr&gt;</th><th scope=col>&lt;chr&gt;</th><th scope=col>&lt;chr&gt;</th><th scope=col>&lt;chr&gt;</th><th scope=col>&lt;chr&gt;</th><th scope=col>&lt;chr&gt;</th><th scope=col>&lt;int&gt;</th><th scope=col>&lt;chr&gt;</th><th scope=col>⋯</th><th scope=col>&lt;chr&gt;</th><th scope=col>&lt;chr&gt;</th><th scope=col>&lt;chr&gt;</th><th scope=col>&lt;int&gt;</th><th scope=col>&lt;dbl&gt;</th><th scope=col>&lt;chr&gt;</th><th scope=col>&lt;int&gt;</th><th scope=col>&lt;int&gt;</th><th scope=col>&lt;chr&gt;</th><th scope=col>&lt;chr&gt;</th></tr>\n",
              "</thead>\n",
              "<tbody>\n",
              "\t<tr><th scope=row>21</th><td>Match_21</td><td>India</td><td>Afghanistan</td><td>Group_stage</td><td>Afghanistan</td><td>Fielding</td><td>evening</td><td>Abu_Dhabi</td><td>29</td><td>Ravindra_Jadeja</td><td>⋯</td><td>India</td><td>Rohit_Sharma</td><td>Right</td><td>74</td><td>157.45</td><td>India</td><td>211</td><td>0</td><td>Rohit_Sharma   </td><td>India</td></tr>\n",
              "\t<tr><th scope=row>25</th><td>Match_25</td><td>India</td><td>ScotLand   </td><td>Group_stage</td><td>India      </td><td>Fielding</td><td>evening</td><td>Dubai    </td><td>28</td><td>Mohammed Shami </td><td>⋯</td><td>India</td><td>KL_Rahul    </td><td>Right</td><td>50</td><td>263.16</td><td>India</td><td> 86</td><td>1</td><td>Ravindra_Jadeja</td><td>India</td></tr>\n",
              "\t<tr><th scope=row>30</th><td>Match_30</td><td>India</td><td>Namibia    </td><td>Group_stage</td><td>India      </td><td>Fielding</td><td>evening</td><td>Dubai    </td><td>28</td><td>Ravindra_Jadeja</td><td>⋯</td><td>India</td><td>Rohit_Sharma</td><td>Right</td><td>56</td><td>151.35</td><td>India</td><td>133</td><td>1</td><td>Ravindra_Jadeja</td><td>India</td></tr>\n",
              "</tbody>\n",
              "</table>\n"
            ],
            "text/markdown": "\nA data.frame: 3 × 24\n\n| <!--/--> | X &lt;chr&gt; | team_1 &lt;chr&gt; | team_2 &lt;chr&gt; | stage &lt;chr&gt; | Winner_toss &lt;chr&gt; | Toss_descision &lt;chr&gt; | time &lt;chr&gt; | venue &lt;chr&gt; | avg_temperature &lt;int&gt; | best_bowler &lt;chr&gt; | ⋯ ⋯ | best_bowler_country &lt;chr&gt; | best_batter &lt;chr&gt; | batting_hand &lt;chr&gt; | high_indvidual_scores &lt;int&gt; | strike_rate &lt;dbl&gt; | best_batter_team &lt;chr&gt; | target &lt;int&gt; | target_achieved &lt;int&gt; | Player_of_the_match &lt;chr&gt; | Winner &lt;chr&gt; |\n|---|---|---|---|---|---|---|---|---|---|---|---|---|---|---|---|---|---|---|---|---|---|\n| 21 | Match_21 | India | Afghanistan | Group_stage | Afghanistan | Fielding | evening | Abu_Dhabi | 29 | Ravindra_Jadeja | ⋯ | India | Rohit_Sharma | Right | 74 | 157.45 | India | 211 | 0 | Rohit_Sharma    | India |\n| 25 | Match_25 | India | ScotLand    | Group_stage | India       | Fielding | evening | Dubai     | 28 | Mohammed Shami  | ⋯ | India | KL_Rahul     | Right | 50 | 263.16 | India |  86 | 1 | Ravindra_Jadeja | India |\n| 30 | Match_30 | India | Namibia     | Group_stage | India       | Fielding | evening | Dubai     | 28 | Ravindra_Jadeja | ⋯ | India | Rohit_Sharma | Right | 56 | 151.35 | India | 133 | 1 | Ravindra_Jadeja | India |\n\n",
            "text/latex": "A data.frame: 3 × 24\n\\begin{tabular}{r|lllllllllllllllllllll}\n  & X & team\\_1 & team\\_2 & stage & Winner\\_toss & Toss\\_descision & time & venue & avg\\_temperature & best\\_bowler & ⋯ & best\\_bowler\\_country & best\\_batter & batting\\_hand & high\\_indvidual\\_scores & strike\\_rate & best\\_batter\\_team & target & target\\_achieved & Player\\_of\\_the\\_match & Winner\\\\\n  & <chr> & <chr> & <chr> & <chr> & <chr> & <chr> & <chr> & <chr> & <int> & <chr> & ⋯ & <chr> & <chr> & <chr> & <int> & <dbl> & <chr> & <int> & <int> & <chr> & <chr>\\\\\n\\hline\n\t21 & Match\\_21 & India & Afghanistan & Group\\_stage & Afghanistan & Fielding & evening & Abu\\_Dhabi & 29 & Ravindra\\_Jadeja & ⋯ & India & Rohit\\_Sharma & Right & 74 & 157.45 & India & 211 & 0 & Rohit\\_Sharma    & India\\\\\n\t25 & Match\\_25 & India & ScotLand    & Group\\_stage & India       & Fielding & evening & Dubai     & 28 & Mohammed Shami  & ⋯ & India & KL\\_Rahul     & Right & 50 & 263.16 & India &  86 & 1 & Ravindra\\_Jadeja & India\\\\\n\t30 & Match\\_30 & India & Namibia     & Group\\_stage & India       & Fielding & evening & Dubai     & 28 & Ravindra\\_Jadeja & ⋯ & India & Rohit\\_Sharma & Right & 56 & 151.35 & India & 133 & 1 & Ravindra\\_Jadeja & India\\\\\n\\end{tabular}\n",
            "text/plain": [
              "   X        team_1 team_2      stage       Winner_toss Toss_descision time   \n",
              "21 Match_21 India  Afghanistan Group_stage Afghanistan Fielding       evening\n",
              "25 Match_25 India  ScotLand    Group_stage India       Fielding       evening\n",
              "30 Match_30 India  Namibia     Group_stage India       Fielding       evening\n",
              "   venue     avg_temperature best_bowler     ⋯ best_bowler_country best_batter \n",
              "21 Abu_Dhabi 29              Ravindra_Jadeja ⋯ India               Rohit_Sharma\n",
              "25 Dubai     28              Mohammed Shami  ⋯ India               KL_Rahul    \n",
              "30 Dubai     28              Ravindra_Jadeja ⋯ India               Rohit_Sharma\n",
              "   batting_hand high_indvidual_scores strike_rate best_batter_team target\n",
              "21 Right        74                    157.45      India            211   \n",
              "25 Right        50                    263.16      India             86   \n",
              "30 Right        56                    151.35      India            133   \n",
              "   target_achieved Player_of_the_match Winner\n",
              "21 0               Rohit_Sharma        India \n",
              "25 1               Ravindra_Jadeja     India \n",
              "30 1               Ravindra_Jadeja     India "
            ]
          },
          "metadata": {}
        }
      ]
    },
    {
      "cell_type": "code",
      "source": [
        "ind$team_2[ind$team_1==\"India\" & ind$target==211]"
      ],
      "metadata": {
        "colab": {
          "base_uri": "https://localhost:8080/",
          "height": 34
        },
        "id": "OkJDTSMyDhi_",
        "outputId": "d944fdc3-848f-4b73-f715-fa78206e6193"
      },
      "execution_count": 65,
      "outputs": [
        {
          "output_type": "display_data",
          "data": {
            "text/html": [
              "'Afghanistan'"
            ],
            "text/markdown": "'Afghanistan'",
            "text/latex": "'Afghanistan'",
            "text/plain": [
              "[1] \"Afghanistan\""
            ]
          },
          "metadata": {}
        }
      ]
    },
    {
      "cell_type": "code",
      "source": [
        "ind$Winner_toss[ind$team_1==\"India\" & ind$team_2==\"Afghanistan\"]"
      ],
      "metadata": {
        "colab": {
          "base_uri": "https://localhost:8080/",
          "height": 34
        },
        "id": "A7cueA8D27Tk",
        "outputId": "61e5a0ab-3823-445b-a6d2-9425e303aa69"
      },
      "execution_count": 66,
      "outputs": [
        {
          "output_type": "display_data",
          "data": {
            "text/html": [
              "'Afghanistan'"
            ],
            "text/markdown": "'Afghanistan'",
            "text/latex": "'Afghanistan'",
            "text/plain": [
              "[1] \"Afghanistan\""
            ]
          },
          "metadata": {}
        }
      ]
    },
    {
      "cell_type": "code",
      "source": [
        "ind$Toss_descision[ind$Winner_toss==\"India\"]"
      ],
      "metadata": {
        "colab": {
          "base_uri": "https://localhost:8080/",
          "height": 34
        },
        "id": "7M7PG8cT3IIN",
        "outputId": "ad8fcc72-7e02-42b0-c5fc-88b5c6ffe0df"
      },
      "execution_count": 67,
      "outputs": [
        {
          "output_type": "display_data",
          "data": {
            "text/html": [
              "<style>\n",
              ".list-inline {list-style: none; margin:0; padding: 0}\n",
              ".list-inline>li {display: inline-block}\n",
              ".list-inline>li:not(:last-child)::after {content: \"\\00b7\"; padding: 0 .5ex}\n",
              "</style>\n",
              "<ol class=list-inline><li>'Fielding'</li><li>'Fielding'</li></ol>\n"
            ],
            "text/markdown": "1. 'Fielding'\n2. 'Fielding'\n\n\n",
            "text/latex": "\\begin{enumerate*}\n\\item 'Fielding'\n\\item 'Fielding'\n\\end{enumerate*}\n",
            "text/plain": [
              "[1] \"Fielding\" \"Fielding\""
            ]
          },
          "metadata": {}
        }
      ]
    },
    {
      "cell_type": "code",
      "source": [
        "ind$avg_temperature[ind$team_1==\"India\" & ind$team_2==\"Afghanistan\"]"
      ],
      "metadata": {
        "colab": {
          "base_uri": "https://localhost:8080/",
          "height": 34
        },
        "id": "syaOeH1RFLt-",
        "outputId": "8693dcda-700a-4eb6-c095-45d4bee148dc"
      },
      "execution_count": 68,
      "outputs": [
        {
          "output_type": "display_data",
          "data": {
            "text/html": [
              "29"
            ],
            "text/markdown": "29",
            "text/latex": "29",
            "text/plain": [
              "[1] 29"
            ]
          },
          "metadata": {}
        }
      ]
    },
    {
      "cell_type": "code",
      "source": [
        "ind$Toss_descision[ind$team_1==\"India\" & ind$team_2==\"Afghanistan\"]"
      ],
      "metadata": {
        "colab": {
          "base_uri": "https://localhost:8080/",
          "height": 34
        },
        "id": "32goRzER3Av2",
        "outputId": "44d45430-d357-41b4-db63-92239ef43f35"
      },
      "execution_count": 69,
      "outputs": [
        {
          "output_type": "display_data",
          "data": {
            "text/html": [
              "'Fielding'"
            ],
            "text/markdown": "'Fielding'",
            "text/latex": "'Fielding'",
            "text/plain": [
              "[1] \"Fielding\""
            ]
          },
          "metadata": {}
        }
      ]
    },
    {
      "cell_type": "code",
      "source": [
        "ind$venue[ind$team_1==\"India\" & ind$target==211]"
      ],
      "metadata": {
        "colab": {
          "base_uri": "https://localhost:8080/",
          "height": 34
        },
        "id": "H3jtqSfNDp1X",
        "outputId": "950931b5-7663-4bf7-e3b0-620ea6a82bc0"
      },
      "execution_count": 70,
      "outputs": [
        {
          "output_type": "display_data",
          "data": {
            "text/html": [
              "'Abu_Dhabi'"
            ],
            "text/markdown": "'Abu_Dhabi'",
            "text/latex": "'Abu\\_Dhabi'",
            "text/plain": [
              "[1] \"Abu_Dhabi\""
            ]
          },
          "metadata": {}
        }
      ]
    },
    {
      "cell_type": "code",
      "source": [
        "ind$Winner[ind$team_1==\"India\" & ind$team_2==\"Afghanistan\"]"
      ],
      "metadata": {
        "colab": {
          "base_uri": "https://localhost:8080/",
          "height": 34
        },
        "id": "qU7_j-MNDwDD",
        "outputId": "56174b14-35cc-4caa-eafa-c144f1fc8ffd"
      },
      "execution_count": 71,
      "outputs": [
        {
          "output_type": "display_data",
          "data": {
            "text/html": [
              "'India'"
            ],
            "text/markdown": "'India'",
            "text/latex": "'India'",
            "text/plain": [
              "[1] \"India\""
            ]
          },
          "metadata": {}
        }
      ]
    },
    {
      "cell_type": "code",
      "source": [
        "ind$Winner[ind$team_1==\"India\"]"
      ],
      "metadata": {
        "colab": {
          "base_uri": "https://localhost:8080/",
          "height": 34
        },
        "id": "cVj2ZEjFD6OQ",
        "outputId": "3d4e47e1-4ad6-4c25-ed4f-87ef128b4b8d"
      },
      "execution_count": 72,
      "outputs": [
        {
          "output_type": "display_data",
          "data": {
            "text/html": [
              "<style>\n",
              ".list-inline {list-style: none; margin:0; padding: 0}\n",
              ".list-inline>li {display: inline-block}\n",
              ".list-inline>li:not(:last-child)::after {content: \"\\00b7\"; padding: 0 .5ex}\n",
              "</style>\n",
              "<ol class=list-inline><li>'India'</li><li>'India'</li><li>'India'</li></ol>\n"
            ],
            "text/markdown": "1. 'India'\n2. 'India'\n3. 'India'\n\n\n",
            "text/latex": "\\begin{enumerate*}\n\\item 'India'\n\\item 'India'\n\\item 'India'\n\\end{enumerate*}\n",
            "text/plain": [
              "[1] \"India\" \"India\" \"India\""
            ]
          },
          "metadata": {}
        }
      ]
    },
    {
      "cell_type": "code",
      "source": [
        "ind$economy[ind$team_1==\"India\"]"
      ],
      "metadata": {
        "colab": {
          "base_uri": "https://localhost:8080/",
          "height": 34
        },
        "id": "WFMZ1TvnDz6_",
        "outputId": "286d1568-3dee-4c3f-c0d2-39b4f7961980"
      },
      "execution_count": 73,
      "outputs": [
        {
          "output_type": "display_data",
          "data": {
            "text/html": [
              "<style>\n",
              ".list-inline {list-style: none; margin:0; padding: 0}\n",
              ".list-inline>li {display: inline-block}\n",
              ".list-inline>li:not(:last-child)::after {content: \"\\00b7\"; padding: 0 .5ex}\n",
              "</style>\n",
              "<ol class=list-inline><li>8</li><li>3.75</li><li>4</li></ol>\n"
            ],
            "text/markdown": "1. 8\n2. 3.75\n3. 4\n\n\n",
            "text/latex": "\\begin{enumerate*}\n\\item 8\n\\item 3.75\n\\item 4\n\\end{enumerate*}\n",
            "text/plain": [
              "[1] 8.00 3.75 4.00"
            ]
          },
          "metadata": {}
        }
      ]
    },
    {
      "cell_type": "code",
      "source": [
        "min(ind$economy[ind$team_1==\"India\"])"
      ],
      "metadata": {
        "colab": {
          "base_uri": "https://localhost:8080/",
          "height": 34
        },
        "id": "9zug0XlHEojc",
        "outputId": "55939abb-f868-4545-d503-db3a8d95858e"
      },
      "execution_count": 74,
      "outputs": [
        {
          "output_type": "display_data",
          "data": {
            "text/html": [
              "3.75"
            ],
            "text/markdown": "3.75",
            "text/latex": "3.75",
            "text/plain": [
              "[1] 3.75"
            ]
          },
          "metadata": {}
        }
      ]
    },
    {
      "cell_type": "code",
      "source": [
        "ind$best_bowler[ind$team_1==\"India\" & ind$economy==8]"
      ],
      "metadata": {
        "colab": {
          "base_uri": "https://localhost:8080/",
          "height": 34
        },
        "id": "Ap6x0GPeEuQ6",
        "outputId": "2e59f3e5-c9c5-441f-9d55-2a7a1db87486"
      },
      "execution_count": 75,
      "outputs": [
        {
          "output_type": "display_data",
          "data": {
            "text/html": [
              "'Ravindra_Jadeja'"
            ],
            "text/markdown": "'Ravindra_Jadeja'",
            "text/latex": "'Ravindra\\_Jadeja'",
            "text/plain": [
              "[1] \"Ravindra_Jadeja\""
            ]
          },
          "metadata": {}
        }
      ]
    },
    {
      "cell_type": "code",
      "source": [
        "ind$best_bowler[ind$team_1==\"India\" & ind$team_2==\"Afghanistan\"]"
      ],
      "metadata": {
        "colab": {
          "base_uri": "https://localhost:8080/",
          "height": 34
        },
        "id": "njxm2IspE22k",
        "outputId": "fb428098-9887-453a-e6cf-220adb436a63"
      },
      "execution_count": 76,
      "outputs": [
        {
          "output_type": "display_data",
          "data": {
            "text/html": [
              "'Ravindra_Jadeja'"
            ],
            "text/markdown": "'Ravindra_Jadeja'",
            "text/latex": "'Ravindra\\_Jadeja'",
            "text/plain": [
              "[1] \"Ravindra_Jadeja\""
            ]
          },
          "metadata": {}
        }
      ]
    },
    {
      "cell_type": "code",
      "source": [
        "ind$best_batter[ind$team_1==\"India\" & ind$team_2==\"Afghanistan\"]"
      ],
      "metadata": {
        "colab": {
          "base_uri": "https://localhost:8080/",
          "height": 34
        },
        "id": "bC-e7rYPGb84",
        "outputId": "6783bb7b-7056-49f7-91e8-6b27c3dc6508"
      },
      "execution_count": 77,
      "outputs": [
        {
          "output_type": "display_data",
          "data": {
            "text/html": [
              "'Rohit_Sharma'"
            ],
            "text/markdown": "'Rohit_Sharma'",
            "text/latex": "'Rohit\\_Sharma'",
            "text/plain": [
              "[1] \"Rohit_Sharma\""
            ]
          },
          "metadata": {}
        }
      ]
    },
    {
      "cell_type": "code",
      "source": [
        "ind$high_indvidual_scores[ind$team_1==\"India\" & ind$team_2==\"Afghanistan\" & ind$best_batter==\"Rohit_Sharma\"]"
      ],
      "metadata": {
        "colab": {
          "base_uri": "https://localhost:8080/",
          "height": 34
        },
        "id": "hHV7VzhH4ygw",
        "outputId": "873df2d9-5748-4a33-a598-b0ab863e0940"
      },
      "execution_count": 78,
      "outputs": [
        {
          "output_type": "display_data",
          "data": {
            "text/html": [
              "74"
            ],
            "text/markdown": "74",
            "text/latex": "74",
            "text/plain": [
              "[1] 74"
            ]
          },
          "metadata": {}
        }
      ]
    },
    {
      "cell_type": "code",
      "source": [
        "ind$most_individual_wickets[ind$team_1==\"India\" & ind$team_2==\"Afghanistan\"]"
      ],
      "metadata": {
        "colab": {
          "base_uri": "https://localhost:8080/",
          "height": 34
        },
        "id": "iBHoxNHy5BlJ",
        "outputId": "0aaa6897-c688-49cc-96ac-867d27b4c29e"
      },
      "execution_count": 79,
      "outputs": [
        {
          "output_type": "display_data",
          "data": {
            "text/html": [
              "3"
            ],
            "text/markdown": "3",
            "text/latex": "3",
            "text/plain": [
              "[1] 3"
            ]
          },
          "metadata": {}
        }
      ]
    },
    {
      "cell_type": "code",
      "source": [
        "ind$best_bowler[ind$team_1==\"India\" & ind$team_2==\"Afghanistan\" & ind$most_individual_wickets==3]"
      ],
      "metadata": {
        "colab": {
          "base_uri": "https://localhost:8080/",
          "height": 34
        },
        "id": "n1sQmDlO5Sbf",
        "outputId": "9c7d6e1a-bdf7-484e-8ad5-c8e20198a3d1"
      },
      "execution_count": 80,
      "outputs": [
        {
          "output_type": "display_data",
          "data": {
            "text/html": [
              "'Ravindra_Jadeja'"
            ],
            "text/markdown": "'Ravindra_Jadeja'",
            "text/latex": "'Ravindra\\_Jadeja'",
            "text/plain": [
              "[1] \"Ravindra_Jadeja\""
            ]
          },
          "metadata": {}
        }
      ]
    },
    {
      "cell_type": "code",
      "source": [
        "ind$strike_rate[ind$team_1==\"India\" & ind$team_2==\"Afghanistan\" & ind$best_batter==\"Rohit_Sharma\"]"
      ],
      "metadata": {
        "colab": {
          "base_uri": "https://localhost:8080/",
          "height": 34
        },
        "id": "X3exEaP_HBmS",
        "outputId": "c6da8ac6-0bf5-4f8c-e1f8-68eb569cdf70"
      },
      "execution_count": 81,
      "outputs": [
        {
          "output_type": "display_data",
          "data": {
            "text/html": [
              "157.45"
            ],
            "text/markdown": "157.45",
            "text/latex": "157.45",
            "text/plain": [
              "[1] 157.45"
            ]
          },
          "metadata": {}
        }
      ]
    },
    {
      "cell_type": "code",
      "source": [
        "ind$economy[ind$team_1==\"India\" & ind$team_2==\"Afghanistan\" & ind$best_bowler==\"Ravindra_Jadeja\"]"
      ],
      "metadata": {
        "colab": {
          "base_uri": "https://localhost:8080/",
          "height": 34
        },
        "id": "XqyIeBnQGKdp",
        "outputId": "fbcc5b38-f741-4e4a-db1a-b4490d25b2e0"
      },
      "execution_count": 82,
      "outputs": [
        {
          "output_type": "display_data",
          "data": {
            "text/html": [
              "8"
            ],
            "text/markdown": "8",
            "text/latex": "8",
            "text/plain": [
              "[1] 8"
            ]
          },
          "metadata": {}
        }
      ]
    },
    {
      "cell_type": "code",
      "source": [
        "ind$Player_of_the_match[ind$team_1==\"India\" & ind$team_2==\"Afghanistan\"]"
      ],
      "metadata": {
        "colab": {
          "base_uri": "https://localhost:8080/",
          "height": 34
        },
        "id": "U2VKeFA36UXo",
        "outputId": "08b60a14-6bad-439e-9cba-65f29ae24007"
      },
      "execution_count": 83,
      "outputs": [
        {
          "output_type": "display_data",
          "data": {
            "text/html": [
              "'Rohit_Sharma'"
            ],
            "text/markdown": "'Rohit_Sharma'",
            "text/latex": "'Rohit\\_Sharma'",
            "text/plain": [
              "[1] \"Rohit_Sharma\""
            ]
          },
          "metadata": {}
        }
      ]
    },
    {
      "cell_type": "code",
      "source": [
        "ind$Winner[ind$team_1==\"India\" & ind$team_2==\"Afghanistan\"]"
      ],
      "metadata": {
        "id": "RWLVR_JnGY4V",
        "colab": {
          "base_uri": "https://localhost:8080/",
          "height": 34
        },
        "outputId": "76e470c0-6eb7-4ef8-e10a-51c7161337f6"
      },
      "execution_count": 84,
      "outputs": [
        {
          "output_type": "display_data",
          "data": {
            "text/html": [
              "'India'"
            ],
            "text/markdown": "'India'",
            "text/latex": "'India'",
            "text/plain": [
              "[1] \"India\""
            ]
          },
          "metadata": {}
        }
      ]
    },
    {
      "cell_type": "code",
      "source": [
        "plot(df$high_indvidual_scores[df$team_1==\"India\"], col=\"Blue\")"
      ],
      "metadata": {
        "colab": {
          "base_uri": "https://localhost:8080/",
          "height": 437
        },
        "id": "q08IblsJXnbC",
        "outputId": "d6807acb-7e46-4a0e-fc16-12dcd13a0b21"
      },
      "execution_count": 86,
      "outputs": [
        {
          "output_type": "display_data",
          "data": {
            "text/plain": [
              "plot without title"
            ],
            "image/png": "[encoded data removed]"
          },
          "metadata": {
            "image/png": {
              "width": 420,
              "height": 420
            }
          }
        }
      ]
    },
    {
      "cell_type": "code",
      "source": [],
      "metadata": {
        "id": "wZFMjZg_qbmU"
      },
      "execution_count": null,
      "outputs": []
    }
  ]
}